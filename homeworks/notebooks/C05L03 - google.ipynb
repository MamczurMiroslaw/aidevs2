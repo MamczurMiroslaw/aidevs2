{
 "cells": [
  {
   "cell_type": "code",
   "execution_count": 1,
   "id": "e62c6226",
   "metadata": {
    "scrolled": false
   },
   "outputs": [
    {
     "name": "stdout",
     "output_type": "stream",
     "text": [
      "----------- Task description -----------\n",
      "msg: Provide me the URL to your API (HTTPS) via /answer/ endpoint. I will ask your API a question that requires search engine integration. Your job is to provide me answer to my question\n",
      "hint1: Please use SerpAPI or similar service. https://serpapi.com (free account is enough)\n",
      "hint2: Probably I will ask more than one question, so be prepared for that\n",
      "hint3: Please return the answer in JSON format, with \"reply\" field!\n",
      "hint4: Return as concise an answer as possible\n",
      "-----------    ----------    -----------\n"
     ]
    }
   ],
   "source": [
    "import requests\n",
    "import json\n",
    "import re\n",
    "\n",
    "from collections import Counter\n",
    "\n",
    "from homeworks.utils.aidevsApi import get_auth_token, get_task, send_answer, API_KEY_OPENAI\n",
    "from openai import OpenAI\n",
    "\n",
    "client = OpenAI(api_key=API_KEY_OPENAI)\n",
    "\n",
    "token = get_auth_token('google')\n",
    "task = get_task(token, print_task=True)"
   ]
  },
  {
   "cell_type": "code",
   "execution_count": 2,
   "id": "0c140387",
   "metadata": {},
   "outputs": [],
   "source": [
    "# question_url = \"give me URL to polish portal called Onet\"\n",
    "question_url = \"\"\"Portal niebezpiecznik.pl napisał kiedyś artykuł ma temat zastrzegania numeru pesel. \n",
    "Mozesz zwrocic mi adres URL do niego? Potrzebuje do tego najnowszego.\"\"\""
   ]
  },
  {
   "cell_type": "code",
   "execution_count": 3,
   "id": "4a3bd3e5",
   "metadata": {},
   "outputs": [
    {
     "data": {
      "text/plain": [
       "{'reply': 'https://niebezpiecznik.pl/post/zastrzeganie-numeru-pesel-juz-od-jutra-tlumaczymy-jak-to-bedzie-dzialac/'}"
      ]
     },
     "execution_count": 3,
     "metadata": {},
     "output_type": "execute_result"
    }
   ],
   "source": [
    "# testing my temporary API:\n",
    "url = \"https://myownapiv3.azurewebsites.net/question_url/\"\n",
    "\n",
    "data = {\n",
    "    \"question\": question_url\n",
    "}\n",
    "headers = {\n",
    "    \"Content-Type\": \"application/json\"\n",
    "}\n",
    "\n",
    "data_json = json.dumps(data)\n",
    "\n",
    "response = requests.post(url, data=data_json, headers=headers)\n",
    "\n",
    "response.json()"
   ]
  },
  {
   "cell_type": "code",
   "execution_count": 4,
   "id": "78b32a8c",
   "metadata": {},
   "outputs": [
    {
     "name": "stdout",
     "output_type": "stream",
     "text": [
      "Sending answer: done! :)\n"
     ]
    }
   ],
   "source": [
    "token = get_auth_token('google')\n",
    "answer = url\n",
    "send_answer(token, answer)"
   ]
  },
  {
   "cell_type": "code",
   "execution_count": null,
   "id": "4913b029",
   "metadata": {},
   "outputs": [],
   "source": []
  },
  {
   "cell_type": "code",
   "execution_count": null,
   "id": "54f77cbe",
   "metadata": {},
   "outputs": [],
   "source": []
  },
  {
   "cell_type": "code",
   "execution_count": null,
   "id": "bc41e8d1",
   "metadata": {},
   "outputs": [],
   "source": []
  },
  {
   "cell_type": "code",
   "execution_count": null,
   "id": "2854eed4",
   "metadata": {},
   "outputs": [],
   "source": []
  },
  {
   "cell_type": "code",
   "execution_count": null,
   "id": "17cf3052",
   "metadata": {},
   "outputs": [],
   "source": []
  },
  {
   "cell_type": "markdown",
   "id": "24d580f9",
   "metadata": {},
   "source": [
    "#### Additional code used for API :)"
   ]
  },
  {
   "cell_type": "code",
   "execution_count": 36,
   "id": "7b2bf614",
   "metadata": {},
   "outputs": [],
   "source": [
    "def google_search_question(question_url):\n",
    "    # ask LLM compressing\n",
    "    response = client.chat.completions.create(\n",
    "        model=\"gpt-4-0613\",\n",
    "        messages=[\n",
    "            {\"role\": \"system\", \"content\": \"Transform given prompt into a google search query.\"},\n",
    "            {\"role\": \"user\", \"content\": f\"User prompt: ###{question_url}###\"}\n",
    "        ],\n",
    "        )\n",
    "    \n",
    "    q = response.choices[0].message.content\n",
    "    \n",
    "    return q\n",
    "\n",
    "\n",
    "def serpApiQuestion(prompt):\n",
    "    # SerpApi endpoint\n",
    "    url = \"https://serpapi.com/search\"\n",
    "    \n",
    "    # Your SerpApi private key\n",
    "    api_key = \"...give here your onw API key ;) ...\"\n",
    "    \n",
    "    # Parameters for the search query\n",
    "    params = {\n",
    "        \"q\": prompt,\n",
    "        \"engine\": \"google\",\n",
    "        \"device\": \"desktop\",\n",
    "        \"api_key\": api_key,\n",
    "    }\n",
    "\n",
    "    # Send the GET request to SerpApi\n",
    "    response = requests.get(url, params=params)\n",
    "\n",
    "    # Check if the request was successful (status code 200)\n",
    "    if response.status_code == 200:\n",
    "        # Print the JSON response\n",
    "        return(response.json())\n",
    "    else:\n",
    "        # Print an error message if the request was not successful\n",
    "        print(f\"Error: {response.status_code}, {response.text}\")            "
   ]
  },
  {
   "cell_type": "code",
   "execution_count": 37,
   "id": "a726d27d",
   "metadata": {},
   "outputs": [
    {
     "data": {
      "text/plain": [
       "'Niebezpiecznik.pl artykuł o zastrzeganiu numeru pesel'"
      ]
     },
     "execution_count": 37,
     "metadata": {},
     "output_type": "execute_result"
    }
   ],
   "source": [
    "google_prompt = google_search_question(question_url).replace('\"','')\n",
    "google_prompt"
   ]
  },
  {
   "cell_type": "code",
   "execution_count": 38,
   "id": "97f41c93",
   "metadata": {},
   "outputs": [],
   "source": [
    "serp_answer = serpApiQuestion(google_prompt)"
   ]
  },
  {
   "cell_type": "code",
   "execution_count": 42,
   "id": "850c7d0d",
   "metadata": {},
   "outputs": [
    {
     "data": {
      "text/plain": [
       "'https://niebezpiecznik.pl/post/zastrzeganie-numeru-pesel-juz-od-jutra-tlumaczymy-jak-to-bedzie-dzialac/'"
      ]
     },
     "execution_count": 42,
     "metadata": {},
     "output_type": "execute_result"
    }
   ],
   "source": [
    "serp_answer['organic_results'][0]['link'] # pierwszy z brzegu"
   ]
  },
  {
   "cell_type": "code",
   "execution_count": null,
   "id": "1f07a425",
   "metadata": {},
   "outputs": [],
   "source": []
  },
  {
   "cell_type": "code",
   "execution_count": null,
   "id": "aae0ca17",
   "metadata": {},
   "outputs": [],
   "source": []
  },
  {
   "cell_type": "code",
   "execution_count": null,
   "id": "cebef8fa",
   "metadata": {},
   "outputs": [],
   "source": []
  },
  {
   "cell_type": "code",
   "execution_count": null,
   "id": "63f249ad",
   "metadata": {},
   "outputs": [],
   "source": []
  },
  {
   "cell_type": "code",
   "execution_count": null,
   "id": "3f4911b8",
   "metadata": {},
   "outputs": [],
   "source": []
  },
  {
   "cell_type": "code",
   "execution_count": null,
   "id": "ff9b7dca",
   "metadata": {},
   "outputs": [],
   "source": []
  }
 ],
 "metadata": {
  "kernelspec": {
   "display_name": "Python 3 (ipykernel)",
   "language": "python",
   "name": "python3"
  },
  "language_info": {
   "codemirror_mode": {
    "name": "ipython",
    "version": 3
   },
   "file_extension": ".py",
   "mimetype": "text/x-python",
   "name": "python",
   "nbconvert_exporter": "python",
   "pygments_lexer": "ipython3",
   "version": "3.10.9"
  }
 },
 "nbformat": 4,
 "nbformat_minor": 5
}
