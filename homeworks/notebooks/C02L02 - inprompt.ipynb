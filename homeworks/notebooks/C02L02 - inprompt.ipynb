{
 "cells": [
  {
   "cell_type": "code",
   "execution_count": 1,
   "id": "18ad68f1",
   "metadata": {
    "scrolled": true
   },
   "outputs": [
    {
     "name": "stdout",
     "output_type": "stream",
     "text": [
      "co lubi jeść na śniadanie Alojzy?\n",
      "1 from 274: Abdon ma czarne oczy, średniej długości włosy i pracuje jako prawnik, a na śniadanie najbardziej lubi jeść owsiankę\n"
     ]
    }
   ],
   "source": [
    "from openai import OpenAI\n",
    "\n",
    "from homeworks.utils.aidevsApi import get_auth_token, get_task, send_answer, API_KEY_OPENAI\n",
    "from homeworks.utils.additional import find_word_to_filter\n",
    "\n",
    "client = OpenAI(api_key=API_KEY_OPENAI)\n",
    "\n",
    "# get information about task from DevAI2\n",
    "token = get_auth_token('inprompt')\n",
    "task = get_task(token, print_task=False)\n",
    "\n",
    "task_question = task['question']\n",
    "task_input = task['input']\n",
    "\n",
    "print(task_question)\n",
    "print(f'1 from {len(task_input)}: {task_input[0]}')"
   ]
  },
  {
   "cell_type": "code",
   "execution_count": 2,
   "id": "038d8c7a",
   "metadata": {},
   "outputs": [
    {
     "name": "stdout",
     "output_type": "stream",
     "text": [
      "Context list 274. Context list after filltering: 1.\n",
      "task_question: co lubi jeść na śniadanie Alojzy?\n",
      "answer: Alojzy lubi jeść owsiankę na śniadanie.\n",
      "Sending answer: done! :)\n"
     ]
    }
   ],
   "source": [
    "# find 1 word to filter context\n",
    "word = find_word_to_filter(task_question)\n",
    "\n",
    "# filter list\n",
    "filtered_context = [element for element in task_input if word in element]\n",
    "\n",
    "# find final answer\n",
    "response = client.chat.completions.create(\n",
    "    model=\"gpt-3.5-turbo\",\n",
    "    messages=[\n",
    "        {\"role\": \"system\", \"content\": f\"Context```{filtered_context}```\"},\n",
    "        {\"role\": \"user\", \"content\": f\"Odpowiedz na pytanie: {task_question}\"}\n",
    "    ],\n",
    "    max_tokens=20\n",
    "    )\n",
    "\n",
    "answer = response.choices[0].message.content\n",
    "\n",
    "print(f\"Context list {len(task_input)}. Context list after filltering: {len(filtered_context)}.\")\n",
    "print(f\"task_question: {task_question}\")\n",
    "print(f\"answer: {answer}\")\n",
    "\n",
    "send_answer(token, answer)"
   ]
  },
  {
   "cell_type": "code",
   "execution_count": null,
   "id": "25178715",
   "metadata": {},
   "outputs": [],
   "source": []
  },
  {
   "cell_type": "code",
   "execution_count": null,
   "id": "b3333f8d",
   "metadata": {},
   "outputs": [],
   "source": [
    "\n"
   ]
  }
 ],
 "metadata": {
  "kernelspec": {
   "display_name": "Python 3 (ipykernel)",
   "language": "python",
   "name": "python3"
  },
  "language_info": {
   "codemirror_mode": {
    "name": "ipython",
    "version": 3
   },
   "file_extension": ".py",
   "mimetype": "text/x-python",
   "name": "python",
   "nbconvert_exporter": "python",
   "pygments_lexer": "ipython3",
   "version": "3.10.9"
  }
 },
 "nbformat": 4,
 "nbformat_minor": 5
}
