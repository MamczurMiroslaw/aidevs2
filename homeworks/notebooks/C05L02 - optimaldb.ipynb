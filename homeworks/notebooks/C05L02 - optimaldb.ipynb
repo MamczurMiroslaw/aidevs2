{
 "cells": [
  {
   "cell_type": "code",
   "execution_count": 1,
   "id": "e62c6226",
   "metadata": {
    "scrolled": false
   },
   "outputs": [
    {
     "name": "stdout",
     "output_type": "stream",
     "text": [
      "----------- Task description -----------\n",
      "msg: In a moment you will receive from me a database on three people. It is over 30kb in size. You need to prepare me for an exam in which I will be questioned on this database. Unfortunately, the capacity of my memory is just 9kb. Send me the optimised database\n",
      "database: https://zadania.aidevs.pl/data/3friends.json\n",
      "hint: I will use GPT-3.5-turbo to answer all test questions\n",
      "-----------    ----------    -----------\n"
     ]
    }
   ],
   "source": [
    "import requests\n",
    "import json\n",
    "import re\n",
    "\n",
    "from collections import Counter\n",
    "\n",
    "from homeworks.utils.aidevsApi import get_auth_token, get_task, send_answer, API_KEY_OPENAI\n",
    "from openai import OpenAI\n",
    "\n",
    "client = OpenAI(api_key=API_KEY_OPENAI)\n",
    "\n",
    "token = get_auth_token('optimaldb')\n",
    "task = get_task(token, print_task=True)\n",
    "\n",
    "database_url = task['database']"
   ]
  },
  {
   "cell_type": "code",
   "execution_count": 2,
   "id": "dcc31588",
   "metadata": {},
   "outputs": [],
   "source": [
    "# Download JSON data from the URL\n",
    "response = requests.get(database_url)\n",
    "db = response.json()"
   ]
  },
  {
   "cell_type": "code",
   "execution_count": 3,
   "id": "70abed9e",
   "metadata": {},
   "outputs": [
    {
     "name": "stdout",
     "output_type": "stream",
     "text": [
      "Size of the variable: 28.67 KB for total words: 3100\n"
     ]
    }
   ],
   "source": [
    "def kb_for_json(j, prnt=True):\n",
    "    # Calculate the size of the variable in kilobytes\n",
    "    size_in_kilobytes = len(json.dumps(j)) / 1024\n",
    "    \n",
    "    # Calculate the total number of words\n",
    "    word_counts = Counter(json.dumps(j).split())    \n",
    "    total_words = sum(word_counts.values())\n",
    "    \n",
    "    if prnt:\n",
    "        print(f\"Size of the variable: {size_in_kilobytes:.2f} KB for total words: {total_words}\")\n",
    "    \n",
    "    return size_in_kilobytes\n",
    "    \n",
    "kb_before = kb_for_json(db)"
   ]
  },
  {
   "cell_type": "markdown",
   "id": "2c3a0d6a",
   "metadata": {},
   "source": [
    "#### Idea is to use gpt-4 model to analyze data for each person and write shorter summary of main information :)"
   ]
  },
  {
   "cell_type": "code",
   "execution_count": 4,
   "id": "82ae9cff",
   "metadata": {},
   "outputs": [],
   "source": [
    "compress_prompt_v1 = f\"\"\"Twoją rolą jest zmniejszenie objętości poniżej bazy danych o 70%. \n",
    "Zrób to według tych wskazówek:\n",
    "1) Najpierw przeanalizuj linijka po linijce wszystkie informacje.\n",
    "2) Następnie bardzo podobne informacje połącz razem w jedno zdanie.\n",
    "3) W kolejnym kroku przepisz zdania swoimi słowami skracając liczbę słów tylko do tych istotnych.\n",
    "4) Staraj się nic istotnego nie pominąć.\n",
    "5) Zwróć wynik tylko jako zdania, które zawsze kończą się kropką `.`\n",
    "6) Nie używaj żadnych znaków specjalnych (np. \\n, @) i cydzysłowiów (np. \",',`,)\"\"\"\n",
    "\n",
    "compress_prompt_v2 = f\"\"\"Twoją rolą jest skondensowania in \n",
    "Przeanalizuj najpierw cały tekst na temat danej osoby. \n",
    "Uprość składnie i napisz najważniejsze informacje krótkimi zdaniami. Nie komplikuj, ma być maksymalnie prosto.\n",
    "Nie pomiń żadnego istotnego faktu, jak nazwy ulubionych dań, gier itp. \n",
    "Nie używaj żadnych znaków specjalnych\"\"\""
   ]
  },
  {
   "cell_type": "code",
   "execution_count": 5,
   "id": "20c40b4d",
   "metadata": {},
   "outputs": [],
   "source": [
    "def compress(db, compress_prompt):\n",
    "    # ask LLM compressing\n",
    "    response = client.chat.completions.create(\n",
    "        model=\"gpt-4-0613\",\n",
    "        messages=[\n",
    "            {\"role\": \"system\", \"content\": compress_prompt},\n",
    "            {\"role\": \"user\", \"content\": f\"baza danych do przeanalizowania: ###{db}###\"}\n",
    "        ],\n",
    "        )\n",
    "    \n",
    "    db_compress = response.choices[0].message.content\n",
    "    \n",
    "    return db_compress"
   ]
  },
  {
   "cell_type": "code",
   "execution_count": 6,
   "id": "60a017bf",
   "metadata": {},
   "outputs": [
    {
     "name": "stdout",
     "output_type": "stream",
     "text": [
      "Size of the variable: 2.04 KB for total words: 252\n",
      "Size of the variable: 1.11 KB for total words: 135\n",
      "Size of the variable: 1.44 KB for total words: 174\n"
     ]
    }
   ],
   "source": [
    "# Create a dictionary\n",
    "db_new = {}\n",
    "\n",
    "for person in db.keys():\n",
    "    \n",
    "    # using GPT to compress data\n",
    "    db_compress = compress(db[person], compress_prompt_v2)\n",
    "\n",
    "    # Remove multiple spaces\n",
    "    db_compress = re.sub(r'\\s+', ' ', db_compress.replace('\\n','')).strip()\n",
    "    \n",
    "    kb_after = kb_for_json(db_compress)\n",
    "\n",
    "    # Split the text into sentences based on the presence of a period\n",
    "    db_compress_list = db_compress.split('. ')    \n",
    "\n",
    "    db_new[person] = db_compress_list"
   ]
  },
  {
   "cell_type": "code",
   "execution_count": 7,
   "id": "0ebafa35",
   "metadata": {},
   "outputs": [
    {
     "name": "stdout",
     "output_type": "stream",
     "text": [
      "Sending answer: done! :)\n"
     ]
    }
   ],
   "source": [
    "token = get_auth_token('optimaldb') # need to create new token - longer tan 2 sec\n",
    "send_answer(token, str(db_new)) # API wanted only string not json file\n",
    "\n",
    "print(\"Sending answer: done! :)\")"
   ]
  },
  {
   "cell_type": "code",
   "execution_count": null,
   "id": "58a881ad",
   "metadata": {},
   "outputs": [],
   "source": []
  },
  {
   "cell_type": "markdown",
   "id": "744a6fc0",
   "metadata": {},
   "source": [
    "#### some additional details"
   ]
  },
  {
   "cell_type": "code",
   "execution_count": 8,
   "id": "c90fb66c",
   "metadata": {},
   "outputs": [
    {
     "name": "stdout",
     "output_type": "stream",
     "text": [
      "Before: 28.6748046875; After: 4.755859375; Compress Ratio: 16.59%\n"
     ]
    }
   ],
   "source": [
    "kb_before = kb_for_json(db, prnt=False)\n",
    "kb_after = kb_for_json(db_new, prnt=False)\n",
    "\n",
    "print(f'Before: {kb_before}; After: {kb_after}; Compress Ratio: {round(100*kb_after/kb_before,2)}%')"
   ]
  },
  {
   "cell_type": "code",
   "execution_count": 10,
   "id": "90bd5da7",
   "metadata": {},
   "outputs": [
    {
     "data": {
      "text/plain": [
       "{'zygfryd': ['Zygfryd jest programistą JavaScript',\n",
       "  'Jego program zdobył nagrodę na konferencji technologicznej',\n",
       "  'Gra na ukulele i hoduje rośliny doniczkowe, w tym storczyki',\n",
       "  \"Lubią łamigłówki logiczne i grał w 'Terra Mystica'\",\n",
       "  'Pokonując pieszo góry, robił zdjęcia na Instagram',\n",
       "  \"Był mistrzem ortografii i zagrał na ulubiony film to 'Matrix'\",\n",
       "  'Uczęszczał na sceny stand-upu i lubi kolor niebieski',\n",
       "  'Promując zdrowe odżywianie, uwielbia pizzę z ananasem',\n",
       "  'Uczył się gry na skrzypcach, jest fanem piłki nożnej i ma kolekcję markowych zegarków',\n",
       "  'Codziennie uczy się nowego języka obcego',\n",
       "  'Jest założycielem lokalnego klubu programistycznego, a jego ulubiony taniec to tango',\n",
       "  'Wybiera zieloną herbatę zamiast kawy',\n",
       "  'Grał w zespole rockowym i ma kolekcję powieści science fiction',\n",
       "  'Jego hobby to modelarstwo, a szczególnie model Enterprise',\n",
       "  'Ceni sobie klasykę rockową i interesuje się astronomią',\n",
       "  'Ma zamiłowanie do aikido i jeździ na rower',\n",
       "  'Jako mentor programistyczny prowadzi bloga',\n",
       "  'Jego startup otrzymał nagrodę branżową',\n",
       "  'Organizuje grill na rocznicę imienia, uwielbia zdrowe odżywianie i zna język migowy',\n",
       "  'Zna się na winach, a przyjaciele szukają u niego porady na temat technologii',\n",
       "  'Śpiewał w chórze i potrafi niesamowite sztuczki karciane',\n",
       "  'Ma wiedzę na temat archeologii i opracowuje projekty programistyczne',\n",
       "  'Zna języki obce, jest lojalny wobec projektów open-source i dobrze biega',\n",
       "  'Woli poranny kod niż nocny kod',\n",
       "  'Budował drona i założył warsztaty kodowania dla dzieci',\n",
       "  'Jego występy jako baristy są doceniane',\n",
       "  'W pracy jest pomocny i rozwija gry indie',\n",
       "  'W wolnym czasie czyta \"Watchmen\" Alana Moore\\'a i ma talent do rysowania projektów',\n",
       "  'Ma certyfikaty z różnych języków programowania i biega maratony',\n",
       "  'Corpomaga lokalnej społeczności IT i jest fanem kosmosu.'],\n",
       " 'stefan': ['Stefan pracuje w sklepie Żabka, gdzie organizuje konkurs na zjedzenie najdłuższego hot doga',\n",
       "  'Po pracy idzie na siłownię i marzy o otwarciu własnej',\n",
       "  'Potrafi wycisnąć tyle, ile waży',\n",
       "  'Mieszkańcy go znają, bo kiedyś uratował kotka',\n",
       "  'Ma tatuaż jamnika, co symbolizuje miłość do psa z dzieciństwa i pomoc dla schroniska',\n",
       "  'Zdobył tytuł \"Sprzedawcy Miesiąca\" 5 razy i zajął trzecie miejsce w zawodach kulturystycznych',\n",
       "  'Prowadzi blog o ćwiczeniach na biceps',\n",
       "  'Lubuje się w gotowaniu hot dogów, które sprzedaje na festiwalach',\n",
       "  'Jego tajemnica to specjalna mieszanka przypraw',\n",
       "  'Planuje wziąć udział w zawodach w wyciskaniu sztangi i pisać książkę o hot dogach',\n",
       "  'Święta świętuje z hot dogami z chrzanem',\n",
       "  'Zawsze pomaga klientom wybrać sos i szybko zapakować zakupy',\n",
       "  'Ma zamiłowanie do żeglarstwa i kolekcjonuje rękawiczki do treningu',\n",
       "  'Doradza w ćwiczeniach na ramiona, na siłowni nazywają go \"Król Hot Dogów\".'],\n",
       " 'ania': ['Ania studiuje prawo i organizowała konferencje o prawie autorskim',\n",
       "  'Prowadzi kanał na YouTube o beauty',\n",
       "  'Co lato odbywa staż w kancelarii prawnej',\n",
       "  'Lubi jeździć samochodem i fitness bikini',\n",
       "  'Stylizuje się na czerwoną pomadkę',\n",
       "  'Kulinaria to jej hobby',\n",
       "  'Kupuje wiele kosmetyków do paznokci',\n",
       "  'W skład zarządu koła naukowego weszła dla poprawy umiejętności organizacyjnych',\n",
       "  'Jennifer Lopez jest jej inspiracją fitnessową',\n",
       "  'Lubi akcesoria do włosów, legal thrillery, fitness i kosmetyczne boksy',\n",
       "  'Wolontariuje w centrum praw kobiet',\n",
       "  'Na numerze rejestracyjnym Porsche ma ANA911',\n",
       "  'Lubi wycieczki do spa i oglądać dramaty prawnicze',\n",
       "  'Ukończyła warsztaty z prawa medycznego, regularnie biega i pracuje nad publikacją o cyberbezpieczeństwie',\n",
       "  'W swojej kolekcji ma wiele produktów kosmetycznych, z czego najbardziej ceni serum z witaminą C',\n",
       "  'Zorganizowała studencką wymianę międzynarodową',\n",
       "  'Na Porsche ma orła, a jej prace architektoniczne zdobią uczelnię',\n",
       "  'Lubi ażurowe sandały na obcasie, perfumy i szydełkowanie',\n",
       "  'Mówi płynnie po hiszpańsku i francusku',\n",
       "  'Wolontariuje w schronisku dla zwierząt',\n",
       "  'Gra na gitarze i tworzy własne kostiumy na Halloween',\n",
       "  'Ma tatuaż na plecach z róży i gołębiem',\n",
       "  'Lubi rozgrywki szachowe i udziela korepetycji z prawa konstytucyjnego.']}"
      ]
     },
     "execution_count": 10,
     "metadata": {},
     "output_type": "execute_result"
    }
   ],
   "source": [
    "# Database AFTER:\n",
    "db_new"
   ]
  },
  {
   "cell_type": "code",
   "execution_count": 11,
   "id": "52e80659",
   "metadata": {
    "scrolled": false
   },
   "outputs": [
    {
     "data": {
      "text/plain": [
       "{'zygfryd': ['Podczas ostatniej konferencji technologicznej, program który stworzył Zygfryd wygrał nagrodę za innowacyjność w użyciu JavaScript.',\n",
       "  'Wielu nie wie, ale ulubionym instrumentem muzycznym Zygfryda jest ukulele, na którym gra po nocach, kiedy kodowanie na dziś się skończy.',\n",
       "  'Zygfryd, oprócz programowania, interesuje się również hodowlą roślin doniczkowych, a wśród jego zbiorów można znaleźć rzadki gatunek storczyka.',\n",
       "  'Łamigłówki logiczne toż to pasja Zygfryda, który często bierze udział w konkursach z tej dziedziny i zdobywa wysokie lokaty.',\n",
       "  \"Kiedy zapytasz go o ulubioną grę planszową, Zygfryd bez wahania odpowie, że jest nią 'Terra Mystica'.\",\n",
       "  'W zeszłym roku Zygfryd odbył pieszą wędrówkę po górach a jego Instagram wypełniony jest zdjęciami z tej podróży.',\n",
       "  'Mało osób wie, że Zygfryd był kiedyś mistrzem ortografii w szkole podstawowej.',\n",
       "  'W lokalnym maratonie programistycznym to właśnie aplikacja mobilna zaprojektowana przez Zygfryda zgarnęła pierwsze miejsce.',\n",
       "  \"Jeden z ulubionych filmów Zygfryda to 'Matrix', który ogląda co najmniej dwa razy do roku.\",\n",
       "  'Na polskiej scenie stand-up, Zygfryd znany jest jako osoba z doskonałym poczuciem humoru, choć występuje tam jedynie amatorsko.',\n",
       "  'W palecie barw preferowanych przez Zygfryda zdecydowanie dominuje niebieski – mówi, że uspokaja go podczas kodowania skomplikowanych algorytmów.',\n",
       "  'Mimo że uwielbia pizzę z ananasem, Zygfryd prowadzi warsztaty kulinarnie, na których promuje zdrowe odżywianie.',\n",
       "  'W dzieciństwie Zygfryd brał lekcje gry na skrzypcach, które jednak porzucił na rzecz swojej pasji do komputerów.',\n",
       "  'Jako zawzięty fan piłki nożnej, Zygfryd nigdy nie przegapia meczu swojej ulubionej drużyny.',\n",
       "  'Kolekcji markowych zegarków Zygfryda mogłaby pozazdrościć niejedna osoba interesująca się zegarmistrzostwem.',\n",
       "  'Każdego dnia Zygfryd spędza co najmniej pół godziny na nauce nowego języka obcego – obecnie szlifuje swój hiszpański.',\n",
       "  'Zygfryd był jednym z pierwszych programistów w Polsce, którzy zaczęli tworzyć aplikacje za pomocą frameworka Vue.js.',\n",
       "  'W rodzinnej miejscowości Zygfryda każdy zna go jako założyciela lokalnego klubu programistycznego.',\n",
       "  'Na swój weselny taniec, Zygfryd wybrał klasycznego tanga, którego długo uczęszczał na lekcje.',\n",
       "  'Podczas gdy wielu programistów obstaje przy kawie, Zygfryd wybiera zieloną herbatę jako swój napój energetyzujący.',\n",
       "  'Choć programuje w JavaScript, Zygfryd ma również certyfikaty z kilku innych języków programowania.',\n",
       "  'Podobno Zygfryd w młodości grał w zespole rockowym, gdzie był gitarzystą.',\n",
       "  \"W jego domowej bibliotece znajduje się pokaźna kolekcja powieści science fiction, z 'Diuną' Franza Herberta na czele.\",\n",
       "  'Często Zygfryd jeździ na weekendowe wycieczki rowerowe, aby odprężyć się po intensywnym tygodniu pracy programistycznej.',\n",
       "  'Dumnie Zygfryd przedstawia swoje umiejętności w sztukach walki, którym oddaje się regularnie, ćwicząc aikido.',\n",
       "  'Przyjaciele wiedzą, że najlepszym prezentem dla Zygfryda będzie nowy gadżet technologiczny, który może wykorzystać w pracy lub hobby.',\n",
       "  'Wśród ulubionych gier wideo Zygfryda królują strategiczne RPGi, gdzie może pokazać swoje umiejętności planowania.',\n",
       "  \"Nieczęsto spotykane hobby Zygfryda to modelarstwo – szczególną uwagę przykuwa jego model statku kosmicznego 'Enterprise'.\",\n",
       "  'Z kolekcji winylowych płyt Zygfryda można wywnioskować, że jest on wielkim fanem klasycznego rocka.',\n",
       "  'Jako wielki miłośnik kosmosu, Zygfryd ma aplikację na telefonie, która informuje go o nadchodzących przejściach Międzynarodowej Stacji Kosmicznej.',\n",
       "  'W wolnym czasie Zygfryd prowadzi bloga, na którym dzieli się swoimi doświadczeniami jako mentor programistyczny.',\n",
       "  'Współtworzony przez Zygfryda startup technologiczny otrzymał niedawno ważną nagrodę branżową.',\n",
       "  'Rocznicę swojego imienia Zygfryd zawsze obchodzi, organizując wielki festyn grillowy dla przyjaciół i rodziny.',\n",
       "  'Podczas burz mózgów w pracy, to właśnie Zygfryd często rzuca najbardziej kreatywne i oryginalne pomysły.',\n",
       "  'Choć uchodzi za miłośnika technologii, Zygfryd co roku ucieka w dzikie rejony Polski, aby oderwać się od cyfrowego świata.',\n",
       "  'Być może nie wszyscy wiedzą, ale Zygfryd biegle posługuje się językiem migowym, którego uczył się, aby komunikować się z kolegą z pracy.',\n",
       "  'W prywatnej winiarni Zygfryda można znaleźć wyselekcjonowane butelki z całego świata, a jego hobby to enologia.',\n",
       "  'Ludzie często proszą Zygfryda o pomoc przy naprawie starych komputerów, gdyż jest znany ze swoich umiejętności w odzyskiwaniu danych.',\n",
       "  'Zygfryd ma talent do rysowania i projektowania, co widać po grafikach, które przygotowuje do swoich aplikacji webowych.',\n",
       "  'Pewnym jest, że Zygfryd zawsze będzie wspominał wakacje na Hawajach jako jedne z najlepszych w swoim życiu – surfing to jego nowa pasja.',\n",
       "  'Chociaż przełomowe odkrycie w dziedzinie kodowania przyniosło Zygfrydowi rozpoznawalność, pozostaje skromny i pomocny dla innych.',\n",
       "  'W rzeczywistości Zygfryd ma niezawodne umiejętności organizacyjne, które przejawiają się podczas koordynowania złożonych projektów programistycznych.',\n",
       "  'Na swoim blogu o JavaScript, Zygfryd regularnie publikuje wskazówki dla początkujących programistów, dzieląc się własnymi doświadczeniami.',\n",
       "  'Wieczory poświęcone rozwijaniu własnych projektów gier indie, to dla Zygfryda prawdziwa pasja i odskocznia od codziennych obowiązków.',\n",
       "  'Eksplorując wirtualną rzeczywistość, Zygfryd bada nowe sposoby wykorzystania tej technologii w edukacji programistycznej.',\n",
       "  \"W kolekcji komiksów Zygfryda na półce honorowe miejsce zajmuje pełna seria 'Watchmen' Alana Moore'a.\",\n",
       "  'Jako dziecko, Zygfryd marzył, aby zostać astronautą; obecnie jego zawód pozwala mu rozwijać oprogramowanie dla branży kosmicznej.',\n",
       "  'W swojej pracy nad sztuczną inteligencją, Zygfryd skupia się na tworzeniu etycznych algorytmów, które będą służyć społeczeństwu.',\n",
       "  'Obsesją Zygfryda od zawsze było poszukiwanie życia pozaziemskiego, co odbija się także w jego projektach programistycznych.',\n",
       "  'Podczas gdy niektórzy programiści są nocturnal, Zygfryd wstaje o świcie, argumentując, że wtedy jego umysł jest najbardziej kreatywny.',\n",
       "  'Założone przez Zygfryda warsztaty kodowania dla dzieci stały się popularne w jego mieście i przyciągają coraz więcej młodych talentów.',\n",
       "  'W jeden z weekendów Zygfryd skonstruował drona, który teraz wykorzystuje do filmowania pięknych pejzaży.',\n",
       "  'Jednym z większych sukcesów Zygfryda jest stworzenie otwartej platformy edukacyjnej, która pomaga innym nauczyć się programowania.',\n",
       "  'Zygfryd czasem opowiada o swoim dziadku, który był wynalazcą i stąd wzięła się jego fascynacja technologią.',\n",
       "  'Miłośnicy fotografii cenią zdjęcia autorstwa Zygfryda, które ukazują unikalne perspektywy miejskich krajobrazów.',\n",
       "  'Podróżując, Zygfryd zawsze stara się odwiedzić lokalne muzea sztuki, aby poszerzać swoje horyzonty estetyczne.',\n",
       "  'Aktywny udział Zygfryda w organizacjach charytatywnych pomógł zebrać fundusze na komputery dla lokalnej szkoły.',\n",
       "  'Nie każdy wie, że Zygfryd kiedyś śpiewał w chórze akademickim i posiada nagrania swoich solowych występów.',\n",
       "  'Podczas gdy wielu programistów korzysta z ogólnodostępnych bibliotek, Zygfryd lubi tworzyć swoje własne, dostosowane do specyficznych potrzeb projektów.',\n",
       "  'Zygfryda można spotkać na wielu meet-upach programistycznych, gdzie dzieli się swoimi przemyśleniami na temat przyszłości języka JavaScript.',\n",
       "  'Często jest tak, że kiedy Zygfryd ugrzęźnie w projekcie programistycznym, z pomocą przychodzi jego ukochany kot.',\n",
       "  'Szwankujący robot kuchenny stał się dla Zygfryda pretekstem do zgłębienia tajników elektroniki i robotyki.',\n",
       "  'Zachwyt Zygfryda nad astronomią widoczny jest nawet w nazewnictwie jego projektów programistycznych, nawiązujących do kosmicznych terminów.',\n",
       "  'Dzięki swoim umiejętnościom językowym, Zygfryd tłumaczył dokumentację techniczną na polski, pomagając lokalnej społeczności IT.',\n",
       "  \"Lojalność Zygfryda do open-source'owych projektów jest znana wśród jego kolegów, którzy często zwracają się do niego o radę.\",\n",
       "  'Na półmaratonie w swoim mieście, Zygfryd zajął miejsce w pierwszej dziesiątce, co uznaje za swój osobisty sukces kondycyjny.',\n",
       "  'Podczas wykopalisk archeologicznych, w których Zygfryd brał udział jako wolontariusz, odkryto nieznane dotąd artefakty z czasów średniowiecza.',\n",
       "  'Jako ekspert JavaScript, Zygfryd często jest zapraszany do recenzowania książek przed ich wydaniem.',\n",
       "  'W swojej karierze programistycznej, Zygfryd zdobył doświadczenie w pracy zarówno dla małych start-upów, jak i wielkich korporacji IT.',\n",
       "  'Magia nie jest obca Zygfrydowi – jest on też amatorem iluzji i potrafi zaskoczyć znajomych niesamowitymi sztuczkami karcianymi.',\n",
       "  'Wysoki poziom empatii sprawia, że Zygfryd jest ceniony wśród współpracowników również jako wsparcie w trudnych momentach.',\n",
       "  'Mało kto zna tajemnicze hobby Zygfryda – jest on kolekcjonerem wyjątkowych edycji starodruków.',\n",
       "  'Dla wielu współpracowników Zygfryd jest chodzącą encyklopedią – ma niesamowitą umiejętność zapamiętywania faktów z różnych dziedzin.',\n",
       "  'Chociaż na co dzień jest programistą, Zygfryd od czasu do czasu pracuje jako barista, by doskonalić swoje umiejętności latte art.',\n",
       "  'Zygfryd doskonale wyczuwa trend, co jest nieocenioną umiejętnością przy projektowaniu interfejsów użytkownika, które zawsze są na czasie.',\n",
       "  'Często po godzinach Zygfryd pomaga młodym pasjonatom informatyki, organizując kursy kodowania.',\n",
       "  'Na listę jego największych osiągnięć zawodowych, Zygfryd zalicza stworzenie biblioteki języka JavaScript, która ułatwia dostępność stron internetowych.',\n",
       "  'Codziennie Zygfryd rejestruje swoje pomysły i inspiracje w specjalnie prowadzonym dzienniku kreatywnym.',\n",
       "  'Światło księżyca inspirowało Zygfryda do zaprojektowania aplikacji mobilnej, która pomaga obserwować fazy księżycowe.',\n",
       "  'Zygfryd ma pełną ścianę w swoim biurze poświęconą demotywatorom z zaskakującymi i humorousistycznymi cytatami o programowaniu.',\n",
       "  'Zygfryd, z jego niewyczerpanymi zasobami ciekawostek, często jest życiem imprezy, zwłaszcza gdy imprezy dotyczą technologii.',\n",
       "  'Przyjaciele uważają Zygfryda za mistrza gier VR, w których często bije rekordy i zachwyca swoją zręcznością'],\n",
       " 'stefan': ['W każdą środę Stefan organizuje konkurs na najdłuższego zjedzonego hot doga w sklepie Żabka.',\n",
       "  'Po pracy w sklepie Żabka, Stefan regularnie przemierza 5 kilometrów, aby dotrzeć na siłownię.',\n",
       "  'Znane jest to, że Stefan potrafi wycisnąć sztangę o masie równającej się jego własnemu ciężarowi.',\n",
       "  'Stefan marzy o tym, aby pewnego dnia otworzyć własną siłownię z hot dogami jako punktem energetycznym.',\n",
       "  'Jamnik, który ozdabia skórę Stefana, to tatuaż, który symbolizuje jego miłość do wiernego psa z dzieciństwa.',\n",
       "  'Część dochodów ze sprzedaży hot dogów, Stefan przeznacza na wsparcie lokalnego schroniska dla zwierząt.',\n",
       "  'Gdy Stefan widzi nowego klienta w sklepie Żabka, zawsze doradza mu, który sos najlepiej pasuje do hot doga.',\n",
       "  'Kiedyś Stefan brał udział w amatorskich zawodach kulturystycznych, zajmując trzecie miejsce w kategorii debiutantów.',\n",
       "  'W wolnych chwilach, Stefan tworzy bloga, na którym dzieli się wskazówkami dotyczącymi efektywnych treningów na biceps.',\n",
       "  \"Stefan został wybrany 'Sprzedawcą Miesiąca' w sieci sklepów Żabka aż pięć razy w ciągu ostatniego roku.\",\n",
       "  'Miłość do hot dogów u Stefana zrodziła się już w szkole, gdzie wygrywał konkursy jedzenia hot dogów.',\n",
       "  'Podczas wakacji Stefan chętnie uczestniczy w festiwalach kulinarnych, na których sprzedaje swoje autorskie hot dogi.',\n",
       "  'Tajemnicą kulinarnej popularności hot dogów Stefana jest specjalna mieszanka przypraw, której składników nie zdradza.',\n",
       "  'Stefan ma w planach wziąć udział w ogólnopolskich zawodach w wyciskaniu sztangi w nadchodzącym roku.',\n",
       "  'Regularne mierzenie obwodu bicepsa pomaga Stefanowi w monitorowaniu postępów na siłowni.',\n",
       "  'Na urodziny, Stefan zazwyczaj otrzymuje od znajomych gadżety związane z kulturystyką i hot dogami.',\n",
       "  'Stefan jest lokalnym bohaterem, ponieważ kiedyś uratował kotka uwięzionego na drzewie podczas przerwy w pracy.',\n",
       "  'W kolekcji Stefana znajduje się ponad 30 par rękawic do treningu, które są jego chlubą.',\n",
       "  'Gdy Stefan ma wolne, często eksperymentuje z nowymi przepisami na sosy do hot dogów.',\n",
       "  \"Na siłowni Stefan jest znany jako 'Król Hot Dogów', co odnosi się zarówno do jego pracy, jak i sylwetki.\",\n",
       "  'Dla Stefana ważnym elementem świątecznego stołu są hot dogi z szynką i chrzanem, które sam przygotowuje.',\n",
       "  'Wśród klientów Żabki Stefan jest znany z tego, że potrafi najszybciej zapakować zakupy spośród wszystkich pracowników.',\n",
       "  'Z zamiłowania do żeglarstwa, Stefan chciałby kiedyś stworzyć hot doga morskiego z owocami morza.',\n",
       "  'Podczas maratonów filmowych Stefan najczęściej ogląda dokumenty o kulturystach i sukcesach zawodowych sprzedawców.',\n",
       "  'Gdy Stefan nie pracuje ani nie trenuje, często pomaga w organizacji lokalnych eventów sportowych.',\n",
       "  'Znakomity balans smaków w hot dogach sprzedawanych przez Stefana to efekt jego zmysłu kulinarnego.',\n",
       "  'Stefan posiada starannie skompletowany zestaw ciężarów, które zabiera ze sobą na plenerowe treningi.',\n",
       "  'Hot dogi przygotowane przez Stefana zawsze cechują się świeżością i jakością składników.',\n",
       "  'Podczas spotkań rodzinnych Stefan jest odpowiedzialny za grillowanie, gdzie hot dogi to nieodłączny element menu.',\n",
       "  'Przyjaciele Stefana często proszą go o porady dotyczące ćwiczeń na rozbudowanie mięśni ramion.',\n",
       "  'Stefan wykorzystuje swoje doświadczenie w sprzedaży hot dogów do nauki młodszych pracowników sklepu Żabka.',\n",
       "  'W języku Stefana znajomość niemieckich słówek związanych z hot dogami jest imponująca, dzięki częstym podróżom do Niemiec.',\n",
       "  'Pomimo pracy w sklepie Żabka, Stefan znajduje czas na pisaniu książki kucharskiej poświęconej hot dogom deluxe.',\n",
       "  'W ramach akcji promocyjnej sklepu Żabka Stefan uczestniczył w tworzeniu najdłuższego hot doga w mieście.',\n",
       "  'Kiedyś Stefan wystąpił w lokalnej telewizji w programie, gdzie opowiadał o sztuce przygotowywania idealnego hot doga.',\n",
       "  'Planowanie diety wysokobiałkowej to jedna z umiejętności Stefana, którą chętnie dzieli się z innymi sportowcami.',\n",
       "  'Stefan uważa, że jego tatuaż jamnika przynosi mu szczęście zarówno w pracy, jak i na siłowni.',\n",
       "  'Na imprezie kostiumowej Stefan niejednokrotnie wybierał strój jamnika, nawiązując do swojego tatuażu.',\n",
       "  \"Miłośnicy hot dogów w mieście Stefana często przypisują mu tytuł 'króla hot dogów', czemu potakuje z uśmiechem.\",\n",
       "  'Święta i uroczystości są dla Stefana doskonałą okazją, aby eksperymentować z tematycznymi wersjami hot dogów.',\n",
       "  'W czasie przerw Stefan lubi dzielić się z klientami ciekawostkami o pochodzeniu dodatków do hot dogów.',\n",
       "  'Kiedy sprawa dotyczy wyboru odpowiedniego chlebka do hot doga, Stefan jest bezwzględnym ekspertem.',\n",
       "  'Stefan posiada uprawnienia do trenowania osób początkujących na siłowni i często udziela indywidualnych porad.',\n",
       "  'Podczas festynów świątecznych, Stefan serwuje hot dogi z tematycznymi, kolorowymi sosami.',\n",
       "  'Wysportowana sylwetka Stefana jest wynikiem ciężkiej pracy, której poświęca niemal tyle samo czasu co pracy w Żabce.',\n",
       "  'Starsi klienci Żabki lubią rozmawiać ze Stefanem o zdrowym stylu życia i korzyściach płynących z aktywności fizycznej.',\n",
       "  'Dzięki umiejętności szybkiego liczenia, Stefan zawsze w mgnieniu oka wydaje resztę klientom w sklepie Żabka.',\n",
       "  'Własnoręcznie przygotowane przez Stefana papierowe ozdoby często zdobią linię produktów hot dogów w sklepie Żabka.',\n",
       "  \"Każdego roku Stefan bierze udział w lokalnym konkursie 'Super Sprzedawca', zdobywając wysokie miejsca.\",\n",
       "  'Podczas miejscowych zawodów siłowych, Stefan jest zawsze niezawodnym dostawcą posiłków dla zawodników i kibiców.',\n",
       "  'Wśród Klientów sklepu Żabka, Stefan słynie z osobistego podejścia i zawsze uśmiechniętej obsługi.',\n",
       "  'Stefan posiada certyfikat ukończenia kursu pierwszej pomocy, co czyni go potencjalnym ratownikiem w nagłych wypadkach.',\n",
       "  'Dzieci przychodzące do sklepu często proszą Stefana o baloniki w kształcie jamników, inspirowane jego tatuażem.',\n",
       "  'Podczas lokalnych akcji na rzecz zdrowia, Stefan prowadzi punkt kulinarne z hot dogami dla uczestników wydarzeń.',\n",
       "  'W przeszłości Stefan spróbował swoich sił w zawodach kulturystycznych, ale ostatecznie wybrał karierę sprzedawcy.',\n",
       "  'Przy komponowaniu nowych kompozycji smakowych do hot dogów, Stefan zawsze bierze pod uwagę opinie stałych klientów.',\n",
       "  'Marzeniem Stefana jest podróż po USA w celu odkrycia sekretów najsłynniejszych przepisów na hot dogi.',\n",
       "  'Czasem Stefan organizuje małe konkursy na najlepszego jedzącego hot dogów wśród klientów sklepu Żabka.',\n",
       "  'W jego torbie na siłownię nie może zabraknąć dedykowanych ręczników z wizerunkiem jamnika, co bawi znajomych Stefana.',\n",
       "  'Jedną z nietypowych umiejętności Stefana jest szybkie robienie kiełbasek do hot dogów z gotowego mielonego mięsa.',\n",
       "  'Na lokalnym forum internetowym Stefan udziela porad dotyczących odżywiania i treningu dla początkujących kulturystów.',\n",
       "  'W upalne dni Stefan zawsze zapełnia nieco więcej lodówki z napojami, aby klienci Żabki mogli się schłodzić.',\n",
       "  'Urzeka go prostota i uniwersalność hot dogów, dlatego Stefan często eksperymentuje z ekskluzywnymi wersjami tych przekąsek.',\n",
       "  'Rzadko kiedy Stefan zapomina o przyniesieniu własnego shakera na trening, ponieważ regularnie spożywa koktajle białkowe.',\n",
       "  'Stabilność i sztywność hot dogów sprzedawanych przez Stefana są często tematem żartów w sklepie Żabka.',\n",
       "  'Stefan posiada kolekcję zdjęć z różnych wersji hot dogów, które przygotowywał i sprzedawał na przestrzeni lat.',\n",
       "  'Chociaż słynie z hot dogów, Stefan nie pogardzi dobrze przyrządzonym stekiem, szczególnie po ciężkim treningu.',\n",
       "  'Do rozwoju swojej kariery Stefan wykorzystuje również media społecznościowe, gdzie dzieli się swoimi kulinarne kreacjami.',\n",
       "  'Z niecierpliwością Stefan oczekuje na targi żywności, gdzie planuje zaprezentować swoje innowacyjne przepisy na hot dogi.',\n",
       "  'Elastyczność w przygotowywaniu hot dogów u Stefana objawia się również w dostosowywaniu oferty do sezonowych preferencji klientów.',\n",
       "  'Podczas miejskiego festiwalu jedzenia Stefan organizuje stoisko, na którym prezentuje hot dogi wraz z pokazem wyciskania sztangi.',\n",
       "  'Stefan zawsze dba o to, aby w sklepie Żabka było wystarczająco dużo ketchupu i musztardy do hot dogów.',\n",
       "  'Szczególnie bliskie sercu Stefana są działania charytatywne, dla których często przygotowuje darmowe hot dogi dla uczestników.',\n",
       "  'Po treningach siłowych Stefan relaksuje się, słuchając audiobooków o motywacji i rozwoju osobistym.',\n",
       "  'Zamiłowanie Stefana do rywalizacji przejawia się także w uczestnictwie w zawodach sprzedawców sklepów Żabka.',\n",
       "  'Stefan jest znawcą lokalnych specjałów, z którymi często eksperymentuje, tworząc unikalne wersje hot dogów.'],\n",
       " 'ania': ['Podczas studiów prawa, Ania zaangażowała się w organizację konferencji dotyczącej prawa autorskiego.',\n",
       "  'W wolnych chwilach Ania prowadzi kanał na YouTube, gdzie dzieli się poradami z zakresu beauty.',\n",
       "  'Każdego lata Ania odbywa staż w renomowanej kancelarii prawnej, zdobywając cenne doświadczenie.',\n",
       "  'Podczas wyścigów amatorskich Porsche Club, Ania wykazała się niesamowitymi umiejętnościami za kierownicą swojego 911 Carrera.',\n",
       "  'Fitness to sposób na życie dla Ani, która regularnie startuje w zawodach fitness bikini.',\n",
       "  'Czerwona pomadka to znak rozpoznawczy w stylizacji Ani, którą często eksponuje w mediach społecznościowych.',\n",
       "  'Niesamowite umiejętności kulinarnie odkryła Ania, przygotowując zdrowe i pełne smaku posiłki dla swoich przyjaciół.',\n",
       "  'W budżecie studenckim Ani, znaczącą pozycję zajmują fundusze przeznaczone na nowe kolekcje lakierów do paznokci.',\n",
       "  'Aby polepszyć swoje umiejętności organizacyjne, Ania weszła w skład zarządu uniwersyteckiego koła naukowego prawa karnego.',\n",
       "  'Jennifer Lopez to inspiracja fitnessowa dla Ani, zwłaszcza jeśli chodzi o taniec i ruch sceniczny.',\n",
       "  'Luksusowe akcesoria do włosów są obsesją Ani, która z dumą prezentuje je na swoim Instagramie.',\n",
       "  'Legal thriller jest ulubionym gatunkiem literackim Ani, który łączy jej pasję do prawa z zamiłowaniem do czytania.',\n",
       "  'Na stoku narciarskim Ania zawsze wyróżnia się profesjonalnym i stylowym strojem sportowym.',\n",
       "  'Ania organizuje warsztaty z samoobrony dla kobiet, akcentując znaczenie bezpieczeństwa i assertwności.',\n",
       "  'Chęć niesienia pomocy potrzebującym skłoniła Anię do podjęcia wolontariatu w lokalnym centrum praw kobiet.',\n",
       "  'Personalizowany numer rejestracyjny Porsche Ani składa się z liter ANA911, co jest jej prywatnym żartem.',\n",
       "  'Spontaniczne wycieczki do spa to ulubiony sposób Ani na relaks po trudnym tygodniu na uczelni.',\n",
       "  'Prenumerowanie boksów z kosmetykami zaskakuje Anię nowymi produktami z branży beauty co miesiąc.',\n",
       "  'Dzięki płynnej znajomości języka francuskiego, Ania spędza każde lato na praktykach w Paryżu, by zgłębiać tamtejsze prawo.',\n",
       "  'Nocne sesje filmowe są dla Ani sposobem na odprężenie, a jej ulubione kino to klasyczne dramaty prawnicze.',\n",
       "  'Skończone przez Anię warsztaty z prawa medycznego rozszerzyły jej zainteresowania o aspekty prawne branży kosmetycznej.',\n",
       "  'Po sukcesach w konkursach fitness, Ania została zaproszona do udziału w kampanii promującej zdrowy tryb życia.',\n",
       "  'Regularny jogging w parku to rytuał Ani, który łączy w sobie miłość do fitnessu i potrzebę bycia na świeżym powietrzu.',\n",
       "  'Prace nad publikacją na temat cyberbezpieczeństwa to jeden z akademickich projektów, w który zaangażowana jest Ania.',\n",
       "  'Zarówno na wykładach, jak i na siłowni, Ania zawsze ma przy sobie elegancki, skórzany notatnik.',\n",
       "  'Wśród jej kolekcji kosmetyków, Ania najbardziej ceni serum z witaminą C, które uważa za swój kosmetyczny must-have.',\n",
       "  'Zaangażowanie Ani w organizację studenckiej wymiany międzynarodowej przyniosło jej uznanie na wydziale prawa.',\n",
       "  'Orzeł bielik, zdobiący kapot Porsche Ani, jest wyrazem jej patriotyzmu i miłości do symboli narodowych.',\n",
       "  'Łuk prawny, który Ania zaprojektowała na jednym z konkursów, został włączony do architektury uczelnianej biblioteki prawniczej.',\n",
       "  'O udany makijaż codzienny Ani dba zestaw pędzli z włosia syntetycznego, które wybrała po długich poszukiwaniach.',\n",
       "  'Ażurowe sandały na obcasie to ulubione letnie obuwie Ani, które doskonale komponuje ze swoimi sukienkami.',\n",
       "  'Miłość do perfum Ani przejawia się w kolekcjonowaniu limitowanych edycji znanych marek.',\n",
       "  'Na swoim Porsche Ania zamontowała zaawansowany system audio, aby każda podróż była dla niej przygodą z muzyką.',\n",
       "  'Szydełkowanie to ukryty talent Ani, który wykorzystuje tworząc własne, unikatowe akcesoria.',\n",
       "  'Lato w Hiszpanii spędzone przez Anię zaowocowało płynnością w języku hiszpańskim i miłością do flamenco.',\n",
       "  'Lokalne schronisko zwierząt regularnie odwiedza Ania, oferując wolontariat i wsparcie prawne.',\n",
       "  'Kiedy Ania wygłosiła przemówienie na temat praw kobiet, jej wykład cieszył się ogromnym zainteresowaniem publiczności.',\n",
       "  'Skomponowanie własnej piosenki na gitarze to jedno z największych osiągnięć Ani poza dziedziną prawa.',\n",
       "  'Zaangażowanie w projekt Budowanie Silnych Marki Osobistej pomaga Ani łączyć świat prawa i social media.',\n",
       "  'Na każdego Halloween Ania tworzy unikalne kostiumy, wykorzystując swoje umiejętności makijażowe i przebierające.',\n",
       "  'Dla Ani, noc przed egzaminem to czas na medytację i jogging, które pomagają jej skupić się i uspokoić umysł.',\n",
       "  'Kolekcja eleganckich teczki spraw jest dla Ani nie tylko narzędziem pracy, ale także elementem osobistego stylu.',\n",
       "  'W czasie przerw na uczelni Ania chętnie bierze udział w rozgrywkach szachowych, doskonaląc strategiczne myślenie.',\n",
       "  'Ania udziela korepetycji z prawa konstytucyjnego młodszym studentom, czym buduje swoją markę jako prawnika.',\n",
       "  'Duży tatuaż na plecach Ani przedstawia połączone symbole róży i gołębia, co dla niej ma głęboki wymiar osobisty.']}"
      ]
     },
     "execution_count": 11,
     "metadata": {},
     "output_type": "execute_result"
    }
   ],
   "source": [
    "# Database BEFORE:\n",
    "db"
   ]
  },
  {
   "cell_type": "code",
   "execution_count": null,
   "id": "ff9b7dca",
   "metadata": {},
   "outputs": [],
   "source": []
  }
 ],
 "metadata": {
  "kernelspec": {
   "display_name": "Python 3 (ipykernel)",
   "language": "python",
   "name": "python3"
  },
  "language_info": {
   "codemirror_mode": {
    "name": "ipython",
    "version": 3
   },
   "file_extension": ".py",
   "mimetype": "text/x-python",
   "name": "python",
   "nbconvert_exporter": "python",
   "pygments_lexer": "ipython3",
   "version": "3.10.9"
  }
 },
 "nbformat": 4,
 "nbformat_minor": 5
}
