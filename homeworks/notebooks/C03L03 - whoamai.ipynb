{
 "cells": [
  {
   "cell_type": "code",
   "execution_count": 1,
   "id": "cdcb2156",
   "metadata": {
    "scrolled": true
   },
   "outputs": [
    {
     "name": "stdout",
     "output_type": "stream",
     "text": [
      "----------- Task description -----------\n",
      "msg: Each time you call up this task, I will return a trivia item about a certain person (the person does not change). Guess who I am\n",
      "hint: Był pod wpływem Zen buddyzmu i odwiedził Indie w poszukiwaniu duchowego oświecenia\n",
      "-----------    ----------    -----------\n"
     ]
    }
   ],
   "source": [
    "import time\n",
    "\n",
    "from openai import OpenAI\n",
    "from homeworks.utils.aidevsApi import get_auth_token, get_task, send_answer, API_KEY_OPENAI\n",
    "\n",
    "client = OpenAI(api_key=API_KEY_OPENAI)\n",
    "\n",
    "token = get_auth_token('whoami')\n",
    "task = get_task(token, print_task=True)"
   ]
  },
  {
   "cell_type": "code",
   "execution_count": 2,
   "id": "fa3beec9",
   "metadata": {},
   "outputs": [],
   "source": [
    "def guess_person(hints):\n",
    "    conversation = [\n",
    "        {\"role\": \"system\", \"content\": \"You are a helpful assistant who need to guess who is MYSTERY PERSON.\"\n",
    "                                      \"If you are not sure for 100% write me NO.\"\n",
    "                                      \"Only if you know answer for 100% write name and surname of this mystery person.\"\n",
    "                                      \"User each time will give you new hint.\"},\n",
    "        {\"role\": \"user\", \"content\": f\"I have information about a person: MYSTERY PERSON. Do you know who this person is?\"}\n",
    "    ]\n",
    "\n",
    "    for hint in hints:\n",
    "        # add all hints to conversation\n",
    "        conversation.append({\"role\": \"assistant\", \"content\": f\"hint: {hint}\"})\n",
    "\n",
    "    conversation.append({\"role\": \"user\", \"content\": f\"Do you know who MYSTERY PERSON is?\"})\n",
    "\n",
    "    # ask OpenAI\n",
    "    response = client.chat.completions.create(\n",
    "        model=\"gpt-3.5-turbo\",\n",
    "        messages=conversation,\n",
    "        max_tokens=100\n",
    "    )\n",
    "\n",
    "    #answer = response['choices'][0]['message']['content']\n",
    "    answer = response.choices[0].message.content\n",
    "\n",
    "    # check answer\n",
    "    if \"NO\" in answer.upper():\n",
    "        # if not then continue\n",
    "        print(f\"Assistant is not sure. Trying another hint :)\")\n",
    "        time.sleep(2)\n",
    "        return 0\n",
    "    else:\n",
    "        print(answer)\n",
    "        send_answer(token, answer)\n",
    "        return 1"
   ]
  },
  {
   "cell_type": "code",
   "execution_count": 3,
   "id": "445454d7",
   "metadata": {},
   "outputs": [
    {
     "name": "stdout",
     "output_type": "stream",
     "text": [
      "Try 1. Hint: był wegetarianinem i eksperymentował z różnymi ekstremalnymi dietami\n",
      "Assistant is not sure. Trying another hint :)\n",
      "Try 2. Hint: W momencie śmierci, jego majątek był szacowany na około 10,2 miliarda dolarów\n",
      "Yes, the MYSTERY PERSON is Steve Jobs.\n",
      "Sending answer: done! :)\n"
     ]
    }
   ],
   "source": [
    "hints = []\n",
    "\n",
    "for i in range(9):\n",
    "    # get information about task from DevAI2\n",
    "    token = get_auth_token('whoami')\n",
    "    hint = get_task(token, print_task=False)['hint']\n",
    "    hints.append(hint)\n",
    "    print(f\"Try {i+1}. Hint: {hint}\")\n",
    "\n",
    "    # try to guess\n",
    "    guess = guess_person(hints)\n",
    "    if guess:\n",
    "        break"
   ]
  },
  {
   "cell_type": "code",
   "execution_count": null,
   "id": "86251ea6",
   "metadata": {},
   "outputs": [],
   "source": []
  }
 ],
 "metadata": {
  "kernelspec": {
   "display_name": "Python 3 (ipykernel)",
   "language": "python",
   "name": "python3"
  },
  "language_info": {
   "codemirror_mode": {
    "name": "ipython",
    "version": 3
   },
   "file_extension": ".py",
   "mimetype": "text/x-python",
   "name": "python",
   "nbconvert_exporter": "python",
   "pygments_lexer": "ipython3",
   "version": "3.10.9"
  }
 },
 "nbformat": 4,
 "nbformat_minor": 5
}
