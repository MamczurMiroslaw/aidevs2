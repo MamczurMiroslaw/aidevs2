{
 "cells": [
  {
   "cell_type": "code",
   "execution_count": 1,
   "id": "18ad68f1",
   "metadata": {
    "scrolled": true
   },
   "outputs": [
    {
     "name": "stdout",
     "output_type": "stream",
     "text": [
      "----------- Task description -----------\n",
      "msg: send me definition of function named addUser that require 3 params: name (string), surname (string) and year of born in field named \"year\" (integer). Set type of function to \"object\"\n",
      "hint1: I will use this function like this: addUser({'John','Smith',1974})\n",
      "hint2: send this definition as correct JSON structure inside 'answer' field (as usual)\n",
      "-----------    ----------    -----------\n"
     ]
    }
   ],
   "source": [
    "import re\n",
    "\n",
    "from openai import OpenAI\n",
    "\n",
    "from homeworks.utils.aidevsApi import get_auth_token, get_task, send_answer, API_KEY_OPENAI\n",
    "\n",
    "client = OpenAI(api_key=API_KEY_OPENAI)\n",
    "\n",
    "# get information about task from DevAI2\n",
    "token = get_auth_token('functions')\n",
    "task = get_task(token, print_task=True)"
   ]
  },
  {
   "cell_type": "code",
   "execution_count": 2,
   "id": "6bab95c1",
   "metadata": {},
   "outputs": [
    {
     "name": "stdout",
     "output_type": "stream",
     "text": [
      "Sending answer: done! :)\n"
     ]
    }
   ],
   "source": [
    "function_descriptions = [\n",
    "    {\n",
    "      \"name\": \"addUser\",\n",
    "      \"description\": \"Add new user to database\",\n",
    "      \"parameters\": {\n",
    "        \"type\": \"object\",\n",
    "        \"properties\": {\n",
    "          \"name\": {\n",
    "            \"type\": \"string\",\n",
    "            \"description\": \"User name, e.g. Mirek, Jagoda, Oti, Elwira\"\n",
    "          },\n",
    "          \"surname\": {\n",
    "            \"type\": \"string\",\n",
    "            \"description\": \"User surname, e.g. Mamczur, Kowalski, Nowak\"\n",
    "          },\n",
    "          \"year\": {\n",
    "            \"type\": \"integer\",\n",
    "            \"description\": \"User year of born, e.g. 1985, 2015, 2017\"\n",
    "          }\n",
    "        },\n",
    "        \"required\": [\"name\", \"surname\", \"year\"]\n",
    "      }\n",
    "    }\n",
    "  ]\n",
    "\n",
    "# Here answer for task is to send description only\n",
    "send_answer(token, function_descriptions[0])"
   ]
  },
  {
   "cell_type": "markdown",
   "id": "7978af3d",
   "metadata": {},
   "source": [
    "### Testing function_call"
   ]
  },
  {
   "cell_type": "code",
   "execution_count": 3,
   "id": "76a8c895",
   "metadata": {},
   "outputs": [
    {
     "name": "stdout",
     "output_type": "stream",
     "text": [
      "addUser\n",
      "{\n",
      "  \"name\": \"Mirek\",\n",
      "  \"surname\": \"Mamczur\",\n",
      "  \"year\": 1985\n",
      "}\n"
     ]
    }
   ],
   "source": [
    "user_prompt = \"Dopisz do listy Mirka Mamczur co ma 39 urodziny 23 kwietnia 2024\"\n",
    "\n",
    "# find final answer\n",
    "response = client.chat.completions.create(\n",
    "    model=\"gpt-3.5-turbo\",\n",
    "    messages=[{\"role\": \"user\", \"content\": user_prompt}],\n",
    "    # Add function calling\n",
    "    functions=function_descriptions,\n",
    "    function_call=\"auto\"\n",
    "    )\n",
    "\n",
    "function_call_answer = response.choices[0].message\n",
    "print(function_call_answer.function_call.name)\n",
    "print(function_call_answer.function_call.arguments)"
   ]
  },
  {
   "cell_type": "code",
   "execution_count": null,
   "id": "0a1c66b4",
   "metadata": {},
   "outputs": [],
   "source": []
  }
 ],
 "metadata": {
  "kernelspec": {
   "display_name": "Python 3 (ipykernel)",
   "language": "python",
   "name": "python3"
  },
  "language_info": {
   "codemirror_mode": {
    "name": "ipython",
    "version": 3
   },
   "file_extension": ".py",
   "mimetype": "text/x-python",
   "name": "python",
   "nbconvert_exporter": "python",
   "pygments_lexer": "ipython3",
   "version": "3.10.9"
  }
 },
 "nbformat": 4,
 "nbformat_minor": 5
}
