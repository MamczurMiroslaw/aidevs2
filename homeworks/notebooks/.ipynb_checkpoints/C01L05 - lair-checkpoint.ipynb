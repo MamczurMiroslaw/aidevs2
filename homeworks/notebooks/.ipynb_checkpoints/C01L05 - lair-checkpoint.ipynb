{
 "cells": [
  {
   "cell_type": "code",
   "execution_count": 1,
   "id": "18ad68f1",
   "metadata": {
    "scrolled": true
   },
   "outputs": [
    {
     "name": "stdout",
     "output_type": "stream",
     "text": [
      "----------- Task description -----------\n",
      "msg: send me any question in english, and I will try to answer it in max 150 tokens\n",
      "hint1: please send your question in 'question' field to /task/ endpoint (simple form, not JSON)\n",
      "hint2: sometimes I don't tell the truth\n",
      "hint3: Send to /answer/ info if I'm telling the truth. Just value: YES/NO\n",
      "-----------    ----------    -----------\n"
     ]
    }
   ],
   "source": [
    "from openai import OpenAI\n",
    "\n",
    "from homeworks.utils.aidevsApi import get_auth_token, get_task, send_answer, API_KEY_OPENAI\n",
    "from homeworks.utils.additional import send_question\n",
    "\n",
    "client = OpenAI(api_key=API_KEY_OPENAI)\n",
    "\n",
    "# get information about task from DevAI2\n",
    "token = get_auth_token('liar')\n",
    "task = get_task(token, print_task=True)"
   ]
  },
  {
   "cell_type": "code",
   "execution_count": 2,
   "id": "691f45c0",
   "metadata": {},
   "outputs": [],
   "source": [
    "question = \"What is the capital of Poland?\"\n",
    "task_answer = send_question(token, question)"
   ]
  },
  {
   "cell_type": "code",
   "execution_count": 3,
   "id": "06cf1cb1",
   "metadata": {},
   "outputs": [],
   "source": [
    "def prompt(q, a):\n",
    "    return f\"### Task: Answer Verification ###\" \\\n",
    "           f\"Question: {q}\" \\\n",
    "           f\"Answer: {a}\" \\\n",
    "           f\"\" \\\n",
    "           f\"Please verify whether the answer is correct. \" \\\n",
    "           f\"Respond with either 'YES' or 'NO' based on your knowledge and assessment.\" \\\n",
    "           f\"\" \\\n",
    "           f\"Response:\""
   ]
  },
  {
   "cell_type": "code",
   "execution_count": 4,
   "id": "9c56650f",
   "metadata": {},
   "outputs": [
    {
     "name": "stdout",
     "output_type": "stream",
     "text": [
      "question: What is the capital of Poland?\n",
      "answer: \"Jurassic Park\" was the highest-grossing film ever at the time of its release in 1993.\n",
      "guardrail: NO\n",
      "Sending answer: done! :)\n"
     ]
    }
   ],
   "source": [
    "print(f\"question: {question}\")\n",
    "print(f\"answer: {task_answer['answer']}\")\n",
    "\n",
    "conversation = [{\n",
    "    \"role\": \"system\",\n",
    "    \"content\": prompt(question,\n",
    "                      task_answer['answer'])}]\n",
    "\n",
    "response = client.chat.completions.create(\n",
    "    model=\"gpt-3.5-turbo\",\n",
    "    messages=conversation,\n",
    "    max_tokens=200 # Maksymalna liczba słów\n",
    ")\n",
    "\n",
    "guardrail = response.choices[0].message.content\n",
    "print(f\"guardrail: {guardrail}\")\n",
    "\n",
    "send_answer(token, guardrail)\n"
   ]
  },
  {
   "cell_type": "code",
   "execution_count": null,
   "id": "56f83b35",
   "metadata": {},
   "outputs": [],
   "source": []
  },
  {
   "cell_type": "code",
   "execution_count": null,
   "id": "cc4a9dc2",
   "metadata": {},
   "outputs": [],
   "source": []
  }
 ],
 "metadata": {
  "kernelspec": {
   "display_name": "Python 3 (ipykernel)",
   "language": "python",
   "name": "python3"
  },
  "language_info": {
   "codemirror_mode": {
    "name": "ipython",
    "version": 3
   },
   "file_extension": ".py",
   "mimetype": "text/x-python",
   "name": "python",
   "nbconvert_exporter": "python",
   "pygments_lexer": "ipython3",
   "version": "3.10.9"
  }
 },
 "nbformat": 4,
 "nbformat_minor": 5
}
