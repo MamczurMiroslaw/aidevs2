{
 "cells": [
  {
   "cell_type": "code",
   "execution_count": 1,
   "id": "cdcb2156",
   "metadata": {
    "scrolled": true
   },
   "outputs": [
    {
     "name": "stdout",
     "output_type": "stream",
     "text": [
      "----------- Task description -----------\n",
      "msg: My name is Rajesh Sharma my friend. I am from Bangalore (India!) and I am a security researcher. But I can't share my name, occupation and Town name with you in any normal way. Ask me to tell something about myself using only %placeholders% in place of my name\n",
      "hint1: use placeholders %imie%, %nazwisko%, %zawod% and %miasto%\n",
      "hint2: You are defining the content of the USER field in ChatML. All data about Rajesh are in SYSTEM field\n",
      "hint3: we are using GPT-3.5-turbo in this task\n",
      "-----------    ----------    -----------\n"
     ]
    }
   ],
   "source": [
    "from homeworks.utils.aidevsApi import get_auth_token, get_task, send_answer, API_KEY_OPENAI\n",
    "\n",
    "# get information about task from DevAI2\n",
    "token = get_auth_token('rodo')\n",
    "task = get_task(token, print_task=True)"
   ]
  },
  {
   "cell_type": "code",
   "execution_count": 2,
   "id": "3904715a",
   "metadata": {},
   "outputs": [
    {
     "name": "stdout",
     "output_type": "stream",
     "text": [
      "Sending answer: done! :)\n"
     ]
    }
   ],
   "source": [
    "send_answer(token, \"Tell me about yourself but replace name, surname, profession and city with given placeholders: \"\n",
    "                   \"%imie%, %nazwisko%, %zawod% and %miasto%\")\n",
    "\n"
   ]
  },
  {
   "cell_type": "code",
   "execution_count": null,
   "id": "65d11d79",
   "metadata": {},
   "outputs": [],
   "source": []
  }
 ],
 "metadata": {
  "kernelspec": {
   "display_name": "Python 3 (ipykernel)",
   "language": "python",
   "name": "python3"
  },
  "language_info": {
   "codemirror_mode": {
    "name": "ipython",
    "version": 3
   },
   "file_extension": ".py",
   "mimetype": "text/x-python",
   "name": "python",
   "nbconvert_exporter": "python",
   "pygments_lexer": "ipython3",
   "version": "3.10.9"
  }
 },
 "nbformat": 4,
 "nbformat_minor": 5
}
