{
 "cells": [
  {
   "cell_type": "code",
   "execution_count": 1,
   "id": "18ad68f1",
   "metadata": {},
   "outputs": [
    {
     "name": "stdout",
     "output_type": "stream",
     "text": [
      "----------- Task description -----------\n",
      "msg: please write blog post for the provided outline\n",
      "blog: ['Wstęp: kilka słów na temat historii pizzy', 'Niezbędne składniki na pizzę', 'Robienie pizzy', 'Pieczenie pizzy w piekarniku']\n",
      "-----------    ----------    -----------\n"
     ]
    }
   ],
   "source": [
    "from openai import OpenAI\n",
    "from homeworks.utils.aidevsApi import get_auth_token, get_task, send_answer, API_KEY_OPENAI\n",
    "\n",
    "client = OpenAI(api_key=API_KEY_OPENAI)\n",
    "\n",
    "# get information about task from DevAI2\n",
    "token = get_auth_token('blogger')\n",
    "task = get_task(token, print_task=True)\n",
    "\n",
    "chapters_list = task['blog']"
   ]
  },
  {
   "cell_type": "code",
   "execution_count": 2,
   "id": "b1712888",
   "metadata": {},
   "outputs": [
    {
     "ename": "SyntaxError",
     "evalue": "unterminated string literal (detected at line 24) (125787.py, line 24)",
     "output_type": "error",
     "traceback": [
      "\u001b[0;36m  Cell \u001b[0;32mIn[2], line 24\u001b[0;36m\u001b[0m\n\u001b[0;31m    print(f'Chapter: {chapter}: DONE!)\u001b[0m\n\u001b[0m          ^\u001b[0m\n\u001b[0;31mSyntaxError\u001b[0m\u001b[0;31m:\u001b[0m unterminated string literal (detected at line 24)\n"
     ]
    }
   ],
   "source": [
    "conversation_base = [{\n",
    "    \"role\": \"system\",\n",
    "    \"content\": \"Jesteś najlepszym polskim pisarzem kulinarnym piszącym o pizzy i lubiącym robić śmieszne porównania \"\n",
    "               \"nawiązujące do historycznych ciekawostek.\"}]\n",
    "\n",
    "\n",
    "def prompt(title):\n",
    "    return f\"Napisz tylko akapit (bez żadnych wstępów) do książki na temat: {title}\"\n",
    "\n",
    "\n",
    "written_chapters = []\n",
    "for chapter in chapters_list:\n",
    "    conversation = conversation_base\n",
    "    conversation.append({\"role\": \"user\", \"content\": prompt(chapter)})\n",
    "\n",
    "    response = client.chat.completions.create(\n",
    "        model=\"gpt-3.5-turbo\",\n",
    "        messages=conversation,\n",
    "        max_tokens=500  # Maksymalna liczba słów\n",
    "    )\n",
    "\n",
    "    written_chapters.append(response.choices[0].message.content)\n",
    "    \n",
    "    print(f'Chapter: {chapter}: DONE!)')\n",
    "\n",
    "send_answer(token, written_chapters)"
   ]
  },
  {
   "cell_type": "code",
   "execution_count": null,
   "id": "2bf69090",
   "metadata": {},
   "outputs": [],
   "source": []
  }
 ],
 "metadata": {
  "kernelspec": {
   "display_name": "Python 3 (ipykernel)",
   "language": "python",
   "name": "python3"
  },
  "language_info": {
   "codemirror_mode": {
    "name": "ipython",
    "version": 3
   },
   "file_extension": ".py",
   "mimetype": "text/x-python",
   "name": "python",
   "nbconvert_exporter": "python",
   "pygments_lexer": "ipython3",
   "version": "3.10.9"
  }
 },
 "nbformat": 4,
 "nbformat_minor": 5
}
