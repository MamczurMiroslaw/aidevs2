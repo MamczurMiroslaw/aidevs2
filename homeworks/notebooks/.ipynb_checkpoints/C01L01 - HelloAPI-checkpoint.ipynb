{
 "cells": [
  {
   "cell_type": "code",
   "execution_count": 1,
   "id": "cdcb2156",
   "metadata": {
    "scrolled": true
   },
   "outputs": [
    {
     "name": "stdout",
     "output_type": "stream",
     "text": [
      "----------- Task description -----------\n",
      "msg: please return value of \"cookie\" field as answer\n",
      "cookie: aidevs_568a4847\n",
      "-----------    ----------    -----------\n",
      "Sending answer: done! :)\n"
     ]
    }
   ],
   "source": [
    "from homeworks.utils.aidevsApi import get_auth_token, get_task, send_answer\n",
    "\n",
    "token = get_auth_token('HelloAPI')\n",
    "task = get_task(token, print_task=True)\n",
    "send_answer(token, task['cookie'])"
   ]
  },
  {
   "cell_type": "code",
   "execution_count": null,
   "id": "18ad68f1",
   "metadata": {},
   "outputs": [],
   "source": []
  }
 ],
 "metadata": {
  "kernelspec": {
   "display_name": "Python 3 (ipykernel)",
   "language": "python",
   "name": "python3"
  },
  "language_info": {
   "codemirror_mode": {
    "name": "ipython",
    "version": 3
   },
   "file_extension": ".py",
   "mimetype": "text/x-python",
   "name": "python",
   "nbconvert_exporter": "python",
   "pygments_lexer": "ipython3",
   "version": "3.10.9"
  }
 },
 "nbformat": 4,
 "nbformat_minor": 5
}
