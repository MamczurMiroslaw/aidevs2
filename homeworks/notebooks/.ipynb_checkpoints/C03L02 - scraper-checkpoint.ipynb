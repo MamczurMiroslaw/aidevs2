{
 "cells": [
  {
   "cell_type": "code",
   "execution_count": 1,
   "id": "cdcb2156",
   "metadata": {
    "scrolled": true
   },
   "outputs": [
    {
     "name": "stdout",
     "output_type": "stream",
     "text": [
      "----------- Task description -----------\n",
      "msg: Return answer for the question in POLISH language, based on provided article. Maximum length for the answer is 200 characters\n",
      "input: https://zadania.aidevs.pl/text_pasta_history.txt\n",
      "question: komu przypisuje się przepis na danie lagana?\n",
      "-----------    ----------    -----------\n"
     ]
    }
   ],
   "source": [
    "import time\n",
    "import requests\n",
    "\n",
    "from fake_useragent import UserAgent\n",
    "\n",
    "from openai import OpenAI\n",
    "from homeworks.utils.aidevsApi import get_auth_token, get_task, send_answer, API_KEY_OPENAI\n",
    "\n",
    "client = OpenAI(api_key=API_KEY_OPENAI)\n",
    "\n",
    "token = get_auth_token('scraper')\n",
    "task = get_task(token, print_task=True)\n",
    "\n",
    "url = task[\"input\"]\n",
    "question = task[\"question\"]"
   ]
  },
  {
   "cell_type": "code",
   "execution_count": 2,
   "id": "78a71eb9",
   "metadata": {},
   "outputs": [],
   "source": [
    "# Funkcja do pobierania tekstu z adresu URL\n",
    "def fetch_url_with_retries(url, max_retries=10, timeout=30):\n",
    "    retries = 0\n",
    "    while retries < max_retries:\n",
    "        start_time = time.time()\n",
    "        try:\n",
    "            ua = UserAgent()\n",
    "            headers = {\n",
    "                \"User-Agent\": ua.random\n",
    "            }\n",
    "            response = requests.get(url, headers=headers, timeout=timeout)\n",
    "\n",
    "            # Sprawdź, czy odpowiedź jest prawidłowa (status 200)\n",
    "            if response.status_code == 200:\n",
    "                print(f\"Downloaded data :)\")\n",
    "                return response.text\n",
    "            else:\n",
    "                print(f\"Nieudane zapytanie. Status: {response.status_code}. \"\n",
    "                      f\"Time: {round(time.time()-start_time,2)} sec.\")\n",
    "\n",
    "        except requests.exceptions.RequestException as e:\n",
    "            print(f\"Błąd podczas pobierania zasobu: {e}\")\n",
    "\n",
    "        retries += 1\n",
    "\n",
    "    print(f\"Nie udało się pobrać zasobu po {max_retries} próbach.\")\n",
    "    return None"
   ]
  },
  {
   "cell_type": "code",
   "execution_count": 3,
   "id": "e401c5b9",
   "metadata": {},
   "outputs": [
    {
     "name": "stdout",
     "output_type": "stream",
     "text": [
      "Downloaded data :)\n",
      "Przepis na danie lagana przypisuje się Atenajuszowi z Naukratis, który przypisuje go Chryzypowi z Tyany, żyjącemu w I wieku n.e.\n",
      "Sending answer: done! :)\n"
     ]
    }
   ],
   "source": [
    "# Wywołaj funkcję do pobrania tekstu\n",
    "context = fetch_url_with_retries(url)\n",
    "\n",
    "response = client.chat.completions.create(\n",
    "    model=\"gpt-3.5-turbo\",\n",
    "    messages=[{\"role\": \"system\", \"content\": f\"You are system to answer question based on below context. \"\n",
    "                                            f\"Please answer in polish.\"\n",
    "                                            f\"Context: ### {context} ###\"},\n",
    "              {\"role\": \"user\", \"content\": f\"Question: {question}\"},\n",
    "              ],\n",
    "    )\n",
    "\n",
    "\n",
    "answer = response.choices[0].message.content\n",
    "\n",
    "print(answer)\n",
    "send_answer(token, answer)"
   ]
  },
  {
   "cell_type": "code",
   "execution_count": null,
   "id": "6d286885",
   "metadata": {},
   "outputs": [],
   "source": []
  },
  {
   "cell_type": "code",
   "execution_count": null,
   "id": "02f63675",
   "metadata": {},
   "outputs": [],
   "source": []
  }
 ],
 "metadata": {
  "kernelspec": {
   "display_name": "Python 3 (ipykernel)",
   "language": "python",
   "name": "python3"
  },
  "language_info": {
   "codemirror_mode": {
    "name": "ipython",
    "version": 3
   },
   "file_extension": ".py",
   "mimetype": "text/x-python",
   "name": "python",
   "nbconvert_exporter": "python",
   "pygments_lexer": "ipython3",
   "version": "3.10.9"
  }
 },
 "nbformat": 4,
 "nbformat_minor": 5
}
