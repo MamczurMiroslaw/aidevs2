{
 "cells": [
  {
   "cell_type": "code",
   "execution_count": 1,
   "id": "18ad68f1",
   "metadata": {},
   "outputs": [
    {
     "name": "stdout",
     "output_type": "stream",
     "text": [
      "----------- Task description -----------\n",
      "msg: please return 0/1 for each sentence to classify if this is content that requires moderation\n",
      "input: ['majonez Winiary jest lepszy od Kieleckiego', 'ten gość musi zginąć. Nie pozwole sobię na obrażanie mnie.', 'azjaci są głupi i brzydcy i nie powinni żyć', 'Sasha.Grey.s3x.p0rn.extreme-interracial.S03E12.DVDRip.mp4']\n",
      "-----------    ----------    -----------\n"
     ]
    }
   ],
   "source": [
    "from openai import OpenAI\n",
    "\n",
    "from homeworks.utils.aidevsApi import get_auth_token, get_task, send_answer, API_KEY_OPENAI\n",
    "\n",
    "client = OpenAI(api_key=API_KEY_OPENAI)\n",
    "\n",
    "# get information about task from DevAI2\n",
    "token = get_auth_token('moderation')\n",
    "task = get_task(token, print_task=True)\n",
    "\n",
    "task_input = task['input']"
   ]
  },
  {
   "cell_type": "code",
   "execution_count": 2,
   "id": "40ec48cf",
   "metadata": {},
   "outputs": [],
   "source": [
    "def moderate_txt(text_to_moderate, print_response=False):\n",
    "    response = client.moderations.create(\n",
    "        input=text_to_moderate\n",
    "    )\n",
    "\n",
    "    final_flag = response.results[0].flagged\n",
    "    categories_flag = response.results[0].categories\n",
    "    if print_response:\n",
    "        print(categories_flag)\n",
    "\n",
    "    return int(final_flag)  # return 0 if False and 1 if True"
   ]
  },
  {
   "cell_type": "code",
   "execution_count": 3,
   "id": "2e5cec53",
   "metadata": {},
   "outputs": [
    {
     "name": "stdout",
     "output_type": "stream",
     "text": [
      "majonez Winiary jest lepszy od Kieleckiego: 0\n",
      "ten gość musi zginąć. Nie pozwole sobię na obrażanie mnie.: 1\n",
      "azjaci są głupi i brzydcy i nie powinni żyć: 1\n",
      "Sasha.Grey.s3x.p0rn.extreme-interracial.S03E12.DVDRip.mp4: 1\n",
      "-------------------\n",
      "Sending answer: done! :)\n"
     ]
    }
   ],
   "source": [
    "values = []\n",
    "for txt in task_input:\n",
    "    moderate_flg = moderate_txt(txt)\n",
    "    print(f'{txt}: {moderate_flg}')\n",
    "    values.append(moderate_flg)\n",
    "\n",
    "print('-------------------')\n",
    "send_answer(token, values)"
   ]
  },
  {
   "cell_type": "code",
   "execution_count": null,
   "id": "cc4a9dc2",
   "metadata": {},
   "outputs": [],
   "source": []
  }
 ],
 "metadata": {
  "kernelspec": {
   "display_name": "Python 3 (ipykernel)",
   "language": "python",
   "name": "python3"
  },
  "language_info": {
   "codemirror_mode": {
    "name": "ipython",
    "version": 3
   },
   "file_extension": ".py",
   "mimetype": "text/x-python",
   "name": "python",
   "nbconvert_exporter": "python",
   "pygments_lexer": "ipython3",
   "version": "3.10.9"
  }
 },
 "nbformat": 4,
 "nbformat_minor": 5
}
