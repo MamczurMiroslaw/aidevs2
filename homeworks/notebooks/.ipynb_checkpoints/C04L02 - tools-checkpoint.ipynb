{
 "cells": [
  {
   "cell_type": "code",
   "execution_count": 1,
   "id": "c498fa9c",
   "metadata": {
    "scrolled": true
   },
   "outputs": [
    {
     "name": "stdout",
     "output_type": "stream",
     "text": [
      "----------- Task description -----------\n",
      "msg: Decide whether the task should be added to the ToDo list or to the calendar (if time is provided) and return the corresponding JSON\n",
      "hint: always use YYYY-MM-DD format for dates\n",
      "example for ToDo: Przypomnij mi, że mam kupić mleko = {\"tool\":\"ToDo\",\"desc\":\"Kup mleko\" }\n",
      "example for Calendar: Jutro mam spotkanie z Marianem = {\"tool\":\"Calendar\",\"desc\":\"Spotkanie z Marianem\",\"date\":\"2023-11-16\"}\n",
      "question: Pojutrze mam kupić 1kg ziemniaków\n",
      "-----------    ----------    -----------\n"
     ]
    }
   ],
   "source": [
    "import json\n",
    "from openai import OpenAI\n",
    "\n",
    "from homeworks.utils.aidevsApi import get_auth_token, get_task, send_answer, API_KEY_OPENAI\n",
    "\n",
    "client = OpenAI(api_key=API_KEY_OPENAI)\n",
    "\n",
    "token = get_auth_token('tools')\n",
    "task = get_task(token, print_task=True)\n",
    "question = task['question']"
   ]
  },
  {
   "cell_type": "code",
   "execution_count": 2,
   "id": "c19603b1",
   "metadata": {},
   "outputs": [],
   "source": [
    "messages = [\n",
    "        {\"role\": \"system\", \"content\": \"\"\"Jesteś pomocnym asystentem, który analizuje zadanie podane przez użytkownika.\n",
    "Masz je zakwalifikować do jednej z 2 kategorii: lista `ToDo` lub `Calendar`.\n",
    "Jeśli występuje data zmień ją na format RRRR-MM-DD.\n",
    "Dzisiaj jest 2023-11-14.\n",
    "Zwróć wynik tylko zapisany w JSON.\n",
    "Przykład dla 'ToDo': Przypomnij mi, że mam kupić mleko = {\"tool\":\"ToDo\",\"desc\":\"Kup mleko\" }\n",
    "Przykład dla `Calendar`: Jutro mam spotkanie z Marianem = {\"tool\":\"Calendar\",\"desc\":\"Spotkanie z Marianem\",\"date\":\"2023-11-15\"}\n",
    "\"\"\"},\n",
    "        {\"role\": \"user\", \"content\": question}\n",
    "    ]\n",
    "\n",
    "response = client.chat.completions.create(\n",
    "  model=\"gpt-4-0613\",\n",
    "  messages=messages,\n",
    "  max_tokens=1000\n",
    ")"
   ]
  },
  {
   "cell_type": "code",
   "execution_count": 3,
   "id": "e5410d9f",
   "metadata": {},
   "outputs": [
    {
     "name": "stdout",
     "output_type": "stream",
     "text": [
      "Sending answer: done! :)\n"
     ]
    }
   ],
   "source": [
    "answer = response.choices[0].message.content\n",
    "send_answer(token, json.loads(answer))"
   ]
  },
  {
   "cell_type": "code",
   "execution_count": 4,
   "id": "6e4d49da",
   "metadata": {},
   "outputs": [
    {
     "name": "stdout",
     "output_type": "stream",
     "text": [
      "question:Przypomnij mi, abym zapisał się na AI Devs 3.0\n",
      "answer:{'tool': 'ToDo', 'desc': 'Zapisz się na AI Devs 3.0'}\n"
     ]
    }
   ],
   "source": [
    "print(f'question:{question}')\n",
    "print(f'answer:{json.loads(answer)}')"
   ]
  },
  {
   "cell_type": "code",
   "execution_count": null,
   "id": "4a1d7168",
   "metadata": {},
   "outputs": [],
   "source": []
  }
 ],
 "metadata": {
  "kernelspec": {
   "display_name": "Python 3 (ipykernel)",
   "language": "python",
   "name": "python3"
  },
  "language_info": {
   "codemirror_mode": {
    "name": "ipython",
    "version": 3
   },
   "file_extension": ".py",
   "mimetype": "text/x-python",
   "name": "python",
   "nbconvert_exporter": "python",
   "pygments_lexer": "ipython3",
   "version": "3.10.9"
  }
 },
 "nbformat": 4,
 "nbformat_minor": 5
}
