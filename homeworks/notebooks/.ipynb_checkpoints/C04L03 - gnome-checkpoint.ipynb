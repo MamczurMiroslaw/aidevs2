{
 "cells": [
  {
   "cell_type": "code",
   "execution_count": 1,
   "id": "e62c6226",
   "metadata": {
    "scrolled": false
   },
   "outputs": [
    {
     "name": "stdout",
     "output_type": "stream",
     "text": [
      "----------- Task description -----------\n",
      "msg: I will give you a drawing of a gnome with a hat on his head. Tell me what is the color of the hat in POLISH. If any errors occur, return \"ERROR\" as answer\n",
      "hint: it won't always be a drawing of a gnome >:)\n",
      "url: https://zadania.aidevs.pl/gnome/a57104229c6299ee1470009bb2191d3c.png\n",
      "-----------    ----------    -----------\n"
     ]
    },
    {
     "data": {
      "text/html": [
       "<img src=\"https://zadania.aidevs.pl/gnome/a57104229c6299ee1470009bb2191d3c.png\"/>"
      ],
      "text/plain": [
       "<IPython.core.display.Image object>"
      ]
     },
     "metadata": {},
     "output_type": "display_data"
    }
   ],
   "source": [
    "import sys\n",
    "sys.path.append('/Users/mirek/PycharmProjects/aidevs2')\n",
    "\n",
    "from homeworks.utils.aidevsApi import get_auth_token, get_task, send_answer, API_KEY_OPENAI\n",
    "from openai import OpenAI\n",
    "\n",
    "from IPython.display import Image, display\n",
    "\n",
    "client = OpenAI(api_key=API_KEY_OPENAI)\n",
    "\n",
    "token = get_auth_token('gnome')\n",
    "task = get_task(token, print_task=True)\n",
    "url = task['url']\n",
    "\n",
    "# display image\n",
    "display(Image(url=url))"
   ]
  },
  {
   "cell_type": "code",
   "execution_count": 2,
   "id": "73b9e218",
   "metadata": {},
   "outputs": [
    {
     "name": "stdout",
     "output_type": "stream",
     "text": [
      "answer: {'answer': 'ZIELONY'}\n",
      "Sending answer: done! :)\n"
     ]
    }
   ],
   "source": [
    "response = client.chat.completions.create(\n",
    "  model=\"gpt-4-vision-preview\",\n",
    "  messages=[\n",
    "    {\n",
    "      \"role\": \"user\",\n",
    "      \"content\": [\n",
    "        {\"type\": \"text\", \"text\": \"What hat color is on image? Return answer in polish. \"\n",
    "                                 \"If there is no hat return 'BRAK'\"},\n",
    "        {\n",
    "          \"type\": \"image_url\",\n",
    "          \"image_url\": {\n",
    "            \"url\": url,\n",
    "          },\n",
    "        },\n",
    "      ],\n",
    "    }\n",
    "  ],\n",
    "  max_tokens=300,\n",
    ")\n",
    "\n",
    "answer = response.choices[0].message.content\n",
    "send_answer(token, answer, print_answer=True)"
   ]
  },
  {
   "cell_type": "code",
   "execution_count": null,
   "id": "0a7871c1",
   "metadata": {},
   "outputs": [],
   "source": []
  }
 ],
 "metadata": {
  "kernelspec": {
   "display_name": "Python 3 (ipykernel)",
   "language": "python",
   "name": "python3"
  },
  "language_info": {
   "codemirror_mode": {
    "name": "ipython",
    "version": 3
   },
   "file_extension": ".py",
   "mimetype": "text/x-python",
   "name": "python",
   "nbconvert_exporter": "python",
   "pygments_lexer": "ipython3",
   "version": "3.10.9"
  }
 },
 "nbformat": 4,
 "nbformat_minor": 5
}
