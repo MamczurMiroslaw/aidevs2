{
 "cells": [
  {
   "cell_type": "code",
   "execution_count": 1,
   "id": "c498fa9c",
   "metadata": {
    "scrolled": true
   },
   "outputs": [
    {
     "name": "stdout",
     "output_type": "stream",
     "text": [
      "----------- Task description -----------\n",
      "msg: retrieve the data set (JSON) and answer the question. The question will change every time the task is called. I only ask about favourite colour, favourite food and place of residence\n",
      "data: https://zadania.aidevs.pl/data/people.json\n",
      "question: jaki kolor się podoba Mariuszowi Kaczorowi?\n",
      "hint1: Does everything have to be handled by the language model?\n",
      "hint2: prepare knowledge DB for this task\n",
      "-----------    ----------    -----------\n"
     ]
    }
   ],
   "source": [
    "import json\n",
    "from openai import OpenAI\n",
    "\n",
    "from homeworks.utils.aidevsApi import get_auth_token, get_task, send_answer, API_KEY_OPENAI\n",
    "from homeworks.utils.additional import download_json_data_from_url\n",
    "\n",
    "\n",
    "client = OpenAI(api_key=API_KEY_OPENAI)\n",
    "\n",
    "token = get_auth_token('people')\n",
    "task = get_task(token, print_task=True)\n",
    "question = task['question']"
   ]
  },
  {
   "cell_type": "code",
   "execution_count": 2,
   "id": "8645d703",
   "metadata": {},
   "outputs": [
    {
     "name": "stdout",
     "output_type": "stream",
     "text": [
      "JSON data downloaded successfully.\n"
     ]
    }
   ],
   "source": [
    "url = \"https://zadania.aidevs.pl/data/people.json\"\n",
    "people_data = download_json_data_from_url(url)"
   ]
  },
  {
   "cell_type": "code",
   "execution_count": 3,
   "id": "3ccd80c5",
   "metadata": {},
   "outputs": [],
   "source": [
    "# ask LLM about name and surname\n",
    "response = client.chat.completions.create(\n",
    "    model=\"gpt-4-0613\",\n",
    "    messages=[\n",
    "        {\"role\": \"system\", \"content\": f\"Poniżej będzie pytanie od użytkownika. Wyciągnij z niego informacje o imieniu\"\n",
    "                                      f\"i nazwisku osoby w pytaniu. Jeśli imię nie ma formy podstawowej imienia to je zmień.\"\n",
    "                                      f\"Na przykład 'Mirka' zmien na 'Mirosław', 'Tomek' na 'Tomasz', 'Jadzia' na 'Jadwiga'.\"\n",
    "                                      f\"Zwróć wynik w formacie json z polem Imię i Nazwisko.\"},\n",
    "        {\"role\": \"user\", \"content\": f\"Pytanie: ###{question}###\"}\n",
    "    ],\n",
    "    )"
   ]
  },
  {
   "cell_type": "code",
   "execution_count": 4,
   "id": "404d09b1",
   "metadata": {},
   "outputs": [
    {
     "name": "stdout",
     "output_type": "stream",
     "text": [
      "Filtered people_data(1387) to 1 pearson(s) based on: {'Imię': 'Mariusz', 'Nazwisko': 'Kaczor'}\n"
     ]
    }
   ],
   "source": [
    "filter_personal_data = response.choices[0].message.content\n",
    "json_personal_data = json.loads(filter_personal_data)\n",
    "filtered_people = [person for person in people_data if person.get('imie') == json_personal_data['Imię'] and\n",
    "                   person.get('nazwisko') == json_personal_data['Nazwisko']]\n",
    "\n",
    "print(f'Filtered people_data({len(people_data)}) to {len(filtered_people)} pearson(s) based on: {json_personal_data}')"
   ]
  },
  {
   "cell_type": "code",
   "execution_count": 5,
   "id": "0b06cff2",
   "metadata": {},
   "outputs": [
    {
     "name": "stdout",
     "output_type": "stream",
     "text": [
      "question: jaki kolor się podoba Mariuszowi Kaczorowi?\n",
      "answer: Mariuszowi Kaczorowi podoba się kolor koralowy.\n",
      "Sending answer: done! :)\n"
     ]
    }
   ],
   "source": [
    "# ask LLM about finding answer\n",
    "response2 = client.chat.completions.create(\n",
    "    model=\"gpt-3.5-turbo\",\n",
    "    messages=[\n",
    "        {\"role\": \"system\", \"content\": f\"Odpowiedź na poniższe pytanie na podstawie tej wiedzy: ### {filtered_people} ###\"},\n",
    "        {\"role\": \"user\", \"content\": f\"Pytanie: ###{question}###\"}\n",
    "    ],\n",
    "    )\n",
    "\n",
    "answer = response2.choices[0].message.content\n",
    "print(f'question: {question}')\n",
    "print(f'answer: {answer}')\n",
    "\n",
    "send_answer(token, answer)"
   ]
  },
  {
   "cell_type": "code",
   "execution_count": null,
   "id": "4a1d7168",
   "metadata": {},
   "outputs": [],
   "source": []
  }
 ],
 "metadata": {
  "kernelspec": {
   "display_name": "Python 3 (ipykernel)",
   "language": "python",
   "name": "python3"
  },
  "language_info": {
   "codemirror_mode": {
    "name": "ipython",
    "version": 3
   },
   "file_extension": ".py",
   "mimetype": "text/x-python",
   "name": "python",
   "nbconvert_exporter": "python",
   "pygments_lexer": "ipython3",
   "version": "3.10.9"
  }
 },
 "nbformat": 4,
 "nbformat_minor": 5
}
