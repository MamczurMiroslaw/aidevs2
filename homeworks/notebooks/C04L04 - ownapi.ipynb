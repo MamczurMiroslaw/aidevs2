{
 "cells": [
  {
   "cell_type": "code",
   "execution_count": 7,
   "id": "e62c6226",
   "metadata": {
    "scrolled": false
   },
   "outputs": [
    {
     "name": "stdout",
     "output_type": "stream",
     "text": [
      "----------- Task description -----------\n",
      "msg: Provide me the URL to your API (HTTPS) via /answer/ endpoint. I will ask your API a general knowledge question\n",
      "hint1: I will sent data as JSON, and my question would be inside \"question\" field\n",
      "hint2: Probably I will ask more than one question, so be prepared for that\n",
      "hint3: Please return the answer in JSON format, with \"reply\" field!\n",
      "-----------    ----------    -----------\n"
     ]
    }
   ],
   "source": [
    "import requests\n",
    "import json\n",
    "\n",
    "from homeworks.utils.aidevsApi import get_auth_token, get_task, send_answer, API_KEY_OPENAI\n",
    "from openai import OpenAI\n",
    "\n",
    "from IPython.display import Image, display\n",
    "\n",
    "client = OpenAI(api_key=API_KEY_OPENAI)\n",
    "\n",
    "token = get_auth_token('ownapi')\n",
    "task = get_task(token, print_task=True)"
   ]
  },
  {
   "cell_type": "markdown",
   "id": "d4c28148",
   "metadata": {},
   "source": [
    "### I created my API in another project\n",
    "You can find it in main folder in `api`"
   ]
  },
  {
   "cell_type": "code",
   "execution_count": 5,
   "id": "e29a74bf",
   "metadata": {},
   "outputs": [
    {
     "data": {
      "text/plain": [
       "{'reply': 'Największe i jedno z najpiękniejszych miast w województwie dolnośląskim to Wrocław.'}"
      ]
     },
     "execution_count": 5,
     "metadata": {},
     "output_type": "execute_result"
    }
   ],
   "source": [
    "# testing my temporary API:\n",
    "url = \"https://myfirstownapi.azurewebsites.net/q/\"\n",
    "\n",
    "data = {\n",
    "    \"question\": \"Jakie jest największe i najpiękniejsze miasto w Polsce w województwie dolnośląskim?\"\n",
    "}\n",
    "headers = {\n",
    "    \"Content-Type\": \"application/json\"\n",
    "}\n",
    "\n",
    "data_json = json.dumps(data)\n",
    "\n",
    "response = requests.post(url, data=data_json, headers=headers)\n",
    "\n",
    "response.json()"
   ]
  },
  {
   "cell_type": "code",
   "execution_count": 8,
   "id": "73b9e218",
   "metadata": {},
   "outputs": [
    {
     "name": "stdout",
     "output_type": "stream",
     "text": [
      "Sending answer: done! :)\n"
     ]
    }
   ],
   "source": [
    "answer = url\n",
    "send_answer(token, answer)"
   ]
  },
  {
   "cell_type": "code",
   "execution_count": 4,
   "id": "0a7871c1",
   "metadata": {},
   "outputs": [],
   "source": []
  },
  {
   "cell_type": "code",
   "execution_count": 5,
   "id": "80543fd4",
   "metadata": {},
   "outputs": [],
   "source": []
  }
 ],
 "metadata": {
  "kernelspec": {
   "display_name": "Python 3 (ipykernel)",
   "language": "python",
   "name": "python3"
  },
  "language_info": {
   "codemirror_mode": {
    "name": "ipython",
    "version": 3
   },
   "file_extension": ".py",
   "mimetype": "text/x-python",
   "name": "python",
   "nbconvert_exporter": "python",
   "pygments_lexer": "ipython3",
   "version": "3.10.9"
  }
 },
 "nbformat": 4,
 "nbformat_minor": 5
}
