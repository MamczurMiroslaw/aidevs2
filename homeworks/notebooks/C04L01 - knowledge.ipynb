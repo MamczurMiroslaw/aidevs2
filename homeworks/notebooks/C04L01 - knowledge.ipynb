{
 "cells": [
  {
   "cell_type": "code",
   "execution_count": 1,
   "id": "c498fa9c",
   "metadata": {
    "scrolled": true
   },
   "outputs": [
    {
     "name": "stdout",
     "output_type": "stream",
     "text": [
      "----------- Task description -----------\n",
      "msg: I will ask you a question about the exchange rate, the current population or general knowledge. Decide whether you will take your knowledge from external sources or from the knowledge of the model\n",
      "question: podaj populację Francji\n",
      "database #1: Currency http://api.nbp.pl/en.html (use table A)\n",
      "database #2: Knowledge about countries https://restcountries.com/ - field 'population'\n",
      "-----------    ----------    -----------\n"
     ]
    }
   ],
   "source": [
    "import json\n",
    "from openai import OpenAI\n",
    "\n",
    "from homeworks.utils.aidevsApi import get_auth_token, get_task, send_answer, API_KEY_OPENAI\n",
    "from homeworks.utils.additional import currency_rate, country_population\n",
    "\n",
    "client = OpenAI(api_key=API_KEY_OPENAI)\n",
    "\n",
    "token = get_auth_token('knowledge')\n",
    "task = get_task(token, print_task=True)\n",
    "question = task['question']"
   ]
  },
  {
   "cell_type": "code",
   "execution_count": 2,
   "id": "f29e2f46",
   "metadata": {},
   "outputs": [],
   "source": [
    "# ask LLM about task. Let it give answer as function calling for 3 functions\n",
    "# 1 - general question; 2- currency; 3 - population\n",
    "function_descriptions = [\n",
    "    {\n",
    "        \"name\": \"general_info\",\n",
    "        \"description\": \"Answering for general information question\",\n",
    "        \"parameters\": {\n",
    "            \"type\": \"object\",\n",
    "            \"properties\": {\n",
    "                \"question\": {\n",
    "                    \"type\": \"string\",\n",
    "                    \"description\": \"Copy of user question\"\n",
    "                },\n",
    "                \"answer\": {\n",
    "                    \"type\": \"string\",\n",
    "                    \"description\": \"Answer for user question\"\n",
    "                },\n",
    "            },\n",
    "            \"required\": [\"question\", \"answer\"]\n",
    "        }\n",
    "    },\n",
    "    {\n",
    "        \"name\": \"currency_rate\",\n",
    "        \"description\": \"Answering for question about currency rate\",\n",
    "        \"parameters\": {\n",
    "            \"type\": \"object\",\n",
    "            \"properties\": {\n",
    "                \"code\": {\n",
    "                    \"type\": \"string\",\n",
    "                    \"description\": \"a three letter currency code (ISO 4217 standard), for example USD for United States\"\n",
    "                },\n",
    "            },\n",
    "            \"required\": [\"code\"]\n",
    "        }\n",
    "    },\n",
    "    {\n",
    "        \"name\": \"country_population\",\n",
    "        \"description\": \"Answering for question about population number\",\n",
    "        \"parameters\": {\n",
    "            \"type\": \"object\",\n",
    "            \"properties\": {\n",
    "                \"country\": {\n",
    "                    \"type\": \"string\",\n",
    "                    \"description\": \"name of country written with small letter, for example for Poland: poland\"\n",
    "                },\n",
    "            },\n",
    "            \"required\": [\"country\"]\n",
    "        }\n",
    "    },\n",
    "]"
   ]
  },
  {
   "cell_type": "code",
   "execution_count": 3,
   "id": "3b22ec11",
   "metadata": {},
   "outputs": [],
   "source": [
    "# find final answer\n",
    "response =  client.chat.completions.create(\n",
    "    model=\"gpt-3.5-turbo-1106\",\n",
    "    messages=[{\"role\": \"user\", \"content\": question}],\n",
    "    # Add function calling\n",
    "    functions=function_descriptions,\n",
    "    function_call=\"auto\",\n",
    "    timeout=10\n",
    ")\n",
    "\n",
    "function_name = response.choices[0].message.function_call.name\n",
    "function_arguments = json.loads(response.choices[0].message.function_call.arguments)"
   ]
  },
  {
   "cell_type": "code",
   "execution_count": 4,
   "id": "578e590f",
   "metadata": {},
   "outputs": [
    {
     "name": "stdout",
     "output_type": "stream",
     "text": [
      "country_population arguments: {'country': 'france'}\n",
      "I have value for france: 67391582\n",
      "Sending answer: done! :)\n"
     ]
    }
   ],
   "source": [
    "if function_name == 'country_population':\n",
    "    print(f'country_population arguments: {function_arguments}')\n",
    "    answer = country_population(function_arguments['country'])\n",
    "elif function_name == 'currency_rate':\n",
    "    print(f'currency_rate arguments: {function_arguments}')\n",
    "    answer = currency_rate(function_arguments['code'])\n",
    "else:\n",
    "    answer = function_arguments['answer']\n",
    "    print(answer)\n",
    "\n",
    "send_answer(token, answer)"
   ]
  },
  {
   "cell_type": "code",
   "execution_count": null,
   "id": "4a1d7168",
   "metadata": {},
   "outputs": [],
   "source": []
  }
 ],
 "metadata": {
  "kernelspec": {
   "display_name": "Python 3 (ipykernel)",
   "language": "python",
   "name": "python3"
  },
  "language_info": {
   "codemirror_mode": {
    "name": "ipython",
    "version": 3
   },
   "file_extension": ".py",
   "mimetype": "text/x-python",
   "name": "python",
   "nbconvert_exporter": "python",
   "pygments_lexer": "ipython3",
   "version": "3.10.9"
  }
 },
 "nbformat": 4,
 "nbformat_minor": 5
}
