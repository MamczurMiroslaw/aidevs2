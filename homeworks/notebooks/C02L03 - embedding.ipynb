{
 "cells": [
  {
   "cell_type": "code",
   "execution_count": 1,
   "id": "18ad68f1",
   "metadata": {
    "scrolled": true
   },
   "outputs": [
    {
     "name": "stdout",
     "output_type": "stream",
     "text": [
      "----------- Task description -----------\n",
      "msg: send embedding of this sentence created via text-embedding-ada-002. Send me just array of params: Hawaiian pizza\n",
      "hint1: this is required structure: [0.003750941, 0.0038711438, 0.0082909055, -0.008753223, -0.02073651, -0.018862579, -0.010596331, -0.022425512, ..., -0.026950065]\n",
      "hint2: it must be a valid JSON array of numbers\n",
      "hint3: just return as JSON array content of .data[0].embedding\n",
      "-----------    ----------    -----------\n"
     ]
    }
   ],
   "source": [
    "import re\n",
    "\n",
    "from openai import OpenAI\n",
    "\n",
    "from homeworks.utils.aidevsApi import get_auth_token, get_task, send_answer, API_KEY_OPENAI\n",
    "from homeworks.utils.additional import find_word_to_filter\n",
    "\n",
    "client = OpenAI(api_key=API_KEY_OPENAI)\n",
    "\n",
    "# get information about task from DevAI2\n",
    "token = get_auth_token('embedding')\n",
    "task = get_task(token, print_task=True)"
   ]
  },
  {
   "cell_type": "code",
   "execution_count": 2,
   "id": "6bab95c1",
   "metadata": {},
   "outputs": [
    {
     "name": "stdout",
     "output_type": "stream",
     "text": [
      "Text for embedding: Hawaiian pizza\n"
     ]
    }
   ],
   "source": [
    "# Define the pattern to match the desired text\n",
    "pattern = r\"Send me just array of params: (.*)\"\n",
    "\n",
    "# Use re.search to find the matching text\n",
    "match = re.search(pattern, task['msg'])\n",
    "\n",
    "# Check if there's a match and get the text after the specified pattern\n",
    "if match:\n",
    "    extracted_text = match.group(1)\n",
    "    print(f\"Text for embedding: {extracted_text}\")\n",
    "else:\n",
    "    print(\"Pattern not found in the sentence :(\")"
   ]
  },
  {
   "cell_type": "code",
   "execution_count": 3,
   "id": "f00da920",
   "metadata": {},
   "outputs": [
    {
     "name": "stdout",
     "output_type": "stream",
     "text": [
      "Sending answer: done! :)\n"
     ]
    }
   ],
   "source": [
    "# Call the OpenAI API to get the embedding\n",
    "response = client.embeddings.create(\n",
    "        input=extracted_text,\n",
    "        model=\"text-embedding-ada-002\"\n",
    "    )\n",
    "# Extract the embedding from the API response\n",
    "embeddings = response.data[0].embedding\n",
    "\n",
    "send_answer(token, embeddings)"
   ]
  },
  {
   "cell_type": "code",
   "execution_count": null,
   "id": "cc4a9dc2",
   "metadata": {},
   "outputs": [],
   "source": []
  }
 ],
 "metadata": {
  "kernelspec": {
   "display_name": "Python 3 (ipykernel)",
   "language": "python",
   "name": "python3"
  },
  "language_info": {
   "codemirror_mode": {
    "name": "ipython",
    "version": 3
   },
   "file_extension": ".py",
   "mimetype": "text/x-python",
   "name": "python",
   "nbconvert_exporter": "python",
   "pygments_lexer": "ipython3",
   "version": "3.10.9"
  }
 },
 "nbformat": 4,
 "nbformat_minor": 5
}
