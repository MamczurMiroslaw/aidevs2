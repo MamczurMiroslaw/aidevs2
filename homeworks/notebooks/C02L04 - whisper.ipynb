{
 "cells": [
  {
   "cell_type": "code",
   "execution_count": 1,
   "id": "18ad68f1",
   "metadata": {
    "scrolled": true
   },
   "outputs": [
    {
     "name": "stdout",
     "output_type": "stream",
     "text": [
      "----------- Task description -----------\n",
      "msg: please return transcription of this file: https://zadania.aidevs.pl/data/mateusz.mp3\n",
      "hint: use WHISPER model - https://platform.openai.com/docs/guides/speech-to-text\n",
      "-----------    ----------    -----------\n"
     ]
    }
   ],
   "source": [
    "import re\n",
    "import requests\n",
    "\n",
    "from openai import OpenAI\n",
    "\n",
    "from homeworks.utils.aidevsApi import get_auth_token, get_task, send_answer, API_KEY_OPENAI\n",
    "\n",
    "client = OpenAI(api_key=API_KEY_OPENAI)\n",
    "\n",
    "# get information about task from DevAI2\n",
    "token = get_auth_token('whisper')\n",
    "task = get_task(token, print_task=True)"
   ]
  },
  {
   "cell_type": "code",
   "execution_count": 2,
   "id": "6bab95c1",
   "metadata": {},
   "outputs": [
    {
     "name": "stdout",
     "output_type": "stream",
     "text": [
      "link to download:https://zadania.aidevs.pl/data/mateusz.mp3\n"
     ]
    }
   ],
   "source": [
    "# Step 1: Extracting the HTTPS Link\n",
    "url_match = re.search(r'https://[^\\s]+', task['msg'])\n",
    "if url_match:\n",
    "    https_link = url_match.group()\n",
    "    print(f'link to download:{https_link}')"
   ]
  },
  {
   "cell_type": "code",
   "execution_count": 3,
   "id": "f00da920",
   "metadata": {},
   "outputs": [
    {
     "name": "stdout",
     "output_type": "stream",
     "text": [
      "File downloaded successfully.\n"
     ]
    }
   ],
   "source": [
    "# Step 2: Download the MP3 file\n",
    "response = requests.get(https_link)\n",
    "\n",
    "if response.status_code == 200:\n",
    "    with open('../files/mateusz.mp3', 'wb') as f:\n",
    "        f.write(response.content)\n",
    "        print(\"File downloaded successfully.\")\n",
    "else:\n",
    "    print(\"Failed to download the file.\")"
   ]
  },
  {
   "cell_type": "code",
   "execution_count": 4,
   "id": "cc4a9dc2",
   "metadata": {},
   "outputs": [
    {
     "name": "stdout",
     "output_type": "stream",
     "text": [
      "answer: {'answer': 'Cześć! Kiedy ostatnio korzystaliście z sztucznej inteligencji, czy zastanawialiście się nad tym, skąd czerpie ona swoją wiedzę? No pewnie, że tak, inaczej nie byłoby was tutaj na szkoleniu. Ale czy przemyśleliście możliwość dostosowania tej wiedzy do waszych własnych, indywidualnych potrzeb?'}\n",
      "Sending answer: done! :)\n"
     ]
    }
   ],
   "source": [
    "# Step 3: Send file to openAI\n",
    "audio_file = open(\"../files/mateusz.mp3\", \"rb\")\n",
    "transcript = client.audio.transcriptions.create(\n",
    "  model=\"whisper-1\", \n",
    "  file=audio_file\n",
    ")\n",
    "\n",
    "answer = transcript.text\n",
    "send_answer(token, answer, print_answer=True)"
   ]
  },
  {
   "cell_type": "code",
   "execution_count": null,
   "id": "76a8c895",
   "metadata": {},
   "outputs": [],
   "source": []
  },
  {
   "cell_type": "code",
   "execution_count": null,
   "id": "0a1c66b4",
   "metadata": {},
   "outputs": [],
   "source": []
  }
 ],
 "metadata": {
  "kernelspec": {
   "display_name": "Python 3 (ipykernel)",
   "language": "python",
   "name": "python3"
  },
  "language_info": {
   "codemirror_mode": {
    "name": "ipython",
    "version": 3
   },
   "file_extension": ".py",
   "mimetype": "text/x-python",
   "name": "python",
   "nbconvert_exporter": "python",
   "pygments_lexer": "ipython3",
   "version": "3.10.9"
  }
 },
 "nbformat": 4,
 "nbformat_minor": 5
}
