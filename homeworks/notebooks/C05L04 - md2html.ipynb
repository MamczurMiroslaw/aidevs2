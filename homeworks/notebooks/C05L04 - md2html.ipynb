{
 "cells": [
  {
   "cell_type": "code",
   "execution_count": 1,
   "id": "e62c6226",
   "metadata": {
    "scrolled": false
   },
   "outputs": [
    {
     "name": "stdout",
     "output_type": "stream",
     "text": [
      "----------- Task description -----------\n",
      "msg: Provide me the URL to your API (HTTPS) via /answer/ endpoint. I will send you some Markdown formated text, and your task is to convert it to HTML. Please fine-tuning model for that.\n",
      "hint1: Probably I will ask more than one question, so be prepared for that\n",
      "hint2: Please return the answer in JSON format, with \"reply\" field!\n",
      "hint3: Do NOT add any additional new lines to the output! If sentence is just in one line, then don't break it to 2-3\n",
      "-----------    ----------    -----------\n"
     ]
    }
   ],
   "source": [
    "import requests\n",
    "import json\n",
    "import re\n",
    "\n",
    "from collections import Counter\n",
    "\n",
    "from homeworks.utils.aidevsApi import get_auth_token, get_task, send_answer, API_KEY_OPENAI\n",
    "from openai import OpenAI\n",
    "\n",
    "client = OpenAI(api_key=API_KEY_OPENAI)\n",
    "\n",
    "token = get_auth_token('md2html')\n",
    "task = get_task(token, print_task=True)"
   ]
  },
  {
   "cell_type": "markdown",
   "id": "996ece09",
   "metadata": {},
   "source": [
    "## Fine-tuning GTP-3-5\n",
    "used https://platform.openai.com/playground?mode=chat&model=gpt-4-1106-preview\n",
    "to generate examples with this system prompt:\n",
    "\n",
    "Your role is to generate example sentences or short paragraphs of JSONL data designed for fine-tuning a model to convert Markdown (MD) to HTML.\n",
    "\n",
    "Please focus on H1 , H2, H3, bold, italics, underline, citation and links.\n",
    "\n",
    "In Markdown use this:\n",
    "- underline _ ,\n",
    "- bold: **,\n",
    "- italic: *\n",
    "- blockquotes: <\n",
    "\n",
    "Give so many examples how many user will ask.\n",
    "\n",
    "Return examples in this format as messages to ChatGPT:\n",
    "User: 1\n",
    "Assistant: {\"messages\":[{\"role\":\"system\",\"content\":\"md2html\"},{\"role\":\"user\",\"content\":\"this is **important** note about [AI Devs](https://aidevs.pl). Please _read_ it!\"},{\"role\":\"assistant\",\"content\":\"this is <b>important</b> note about <a href=\\\"https://aidevs.pl\\\">AI Devs</a>. Please <u>read</u> it!\"}]}"
   ]
  },
  {
   "cell_type": "raw",
   "id": "6cfac62b",
   "metadata": {},
   "source": [
    "{\"messages\":[{\"role\":\"system\",\"content\":\"md2html\"},{\"role\":\"user\",\"content\":\"this is **important** note about [AI Devs](https://aidevs.pl). Please _read_ it!\"},{\"role\":\"assistant\",\"content\":\"this is <b>important</b> note about <a href=\\\"https://aidevs.pl\\\">AI Devs</a>. Please <u>read</u> it!\"}]}\n",
    "{\"messages\":[{\"role\":\"system\",\"content\":\"md2html\"},{\"role\":\"user\",\"content\":\"Welcome to our site, visit our [blog](https://blog.example.com) for more info.\"},{\"role\":\"assistant\",\"content\":\"Welcome to our site, visit our <a href=\\\"https://blog.example.com\\\">blog</a> for more info.\"}]}\n",
    "{\"messages\":[{\"role\":\"system\",\"content\":\"md2html\"},{\"role\":\"user\",\"content\":\"# Heading Level 1\"},{\"role\":\"assistant\",\"content\":\"<h1>Heading Level 1</h1>\"}]}\n",
    "{\"messages\":[{\"role\":\"system\",\"content\":\"md2html\"},{\"role\":\"user\",\"content\":\"## Discover New Horizons\"},{\"role\":\"assistant\",\"content\":\"<h2>Discover New Horizons</h2>\"}]}\n",
    "{\"messages\":[{\"role\":\"system\",\"content\":\"md2html\"},{\"role\":\"user\",\"content\":\"### Features & Benefits\"},{\"role\":\"assistant\",\"content\":\"<h3>Features & Benefits</h3>\"}]}\n",
    "{\"messages\":[{\"role\":\"system\",\"content\":\"md2html\"},{\"role\":\"user\",\"content\":\"Introducing our **new product** that will *change* your life!\"},{\"role\":\"assistant\",\"content\":\"Introducing our <b>new product</b> that will <i>change</i> your life!\"}]}\n",
    "{\"messages\":[{\"role\":\"system\",\"content\":\"md2html\"},{\"role\":\"user\",\"content\":\"Our mission: _Innovate. Impact. Inspire._\"},{\"role\":\"assistant\",\"content\":\"Our mission: <u>Innovate. Impact. Inspire.</u>\"}]}\n",
    "{\"messages\":[{\"role\":\"system\",\"content\":\"md2html\"},{\"role\":\"user\",\"content\":\"< This is a famous quote by someone important. That's why it's a **quote**. >\"},{\"role\":\"assistant\",\"content\":\"<blockquote>This is a famous quote by someone important. That's why it's a <b>quote</b>.</blockquote>\"}]}\n",
    "{\"messages\":[{\"role\":\"system\",\"content\":\"md2html\"},{\"role\":\"user\",\"content\":\"_Never underestimate the power of **bold statements**_.\"},{\"role\":\"assistant\",\"content\":\"<u>Never underestimate the power of <b>bold statements</b></u>.\"}]}\n",
    "{\"messages\":[{\"role\":\"system\",\"content\":\"md2html\"},{\"role\":\"user\",\"content\":\"**Creativity** is intelligence having *fun*.\"},{\"role\":\"assistant\",\"content\":\"<b>Creativity</b> is intelligence having <i>fun</i>.\"}]}\n",
    "{\"messages\":[{\"role\":\"system\",\"content\":\"md2html\"},{\"role\":\"user\",\"content\":\"Always deliver more than **expected**. -- Larry Page\"},{\"role\":\"assistant\",\"content\":\"Always deliver more than <b>expected</b>. -- Larry Page\"}]}\n",
    "{\"messages\":[{\"role\":\"system\",\"content\":\"md2html\"},{\"role\":\"user\",\"content\":\"*Markdown* is a lightweight **markup** language with plain-text formatting syntax.\"},{\"role\":\"assistant\",\"content\":\"<i>Markdown</i> is a lightweight <b>markup</b> language with plain-text formatting syntax.\"}]}\n",
    "{\"messages\":[{\"role\":\"system\",\"content\":\"md2html\"},{\"role\":\"user\",\"content\":\"Join our mailing list [here](https://signup.example.com)!\"},{\"role\":\"assistant\",\"content\":\"Join our mailing list <a href=\\\"https://signup.example.com\\\">here</a>!\"}]}\n",
    "{\"messages\":[{\"role\":\"system\",\"content\":\"md2html\"},{\"role\":\"user\",\"content\":\"### Our Team\"},{\"role\":\"assistant\",\"content\":\"<h3>Our Team</h3>\"}]}\n",
    "{\"messages\":[{\"role\":\"system\",\"content\":\"md2html\"},{\"role\":\"user\",\"content\":\"This product is **revolutionary**. It will make tasks *easier*.\"},{\"role\":\"assistant\",\"content\":\"This product is <b>revolutionary</b>. It will make tasks <i>easier</i>.\"}]}\n",
    "{\"messages\":[{\"role\":\"system\",\"content\":\"md2html\"},{\"role\":\"user\",\"content\":\"## *Beauty* in **Simplicity**\"},{\"role\":\"assistant\",\"content\":\"<h2><i>Beauty</i> in <b>Simplicity</b></h2>\"}]}\n",
    "{\"messages\":[{\"role\":\"system\",\"content\":\"md2html\"},{\"role\":\"user\",\"content\":\"< Knowledge is power. -- Francis Bacon >\"},{\"role\":\"assistant\",\"content\":\"<blockquote>Knowledge is power. -- Francis Bacon</blockquote>\"}]}\n",
    "{\"messages\":[{\"role\":\"system\",\"content\":\"md2html\"},{\"role\":\"user\",\"content\":\"__*Emphasize* everything__ is not always a good strategy.\"},{\"role\":\"assistant\",\"content\":\"<u><i>Emphasize</i> everything</u> is not always a good strategy.\"}]}\n",
    "{\"messages\":[{\"role\":\"system\",\"content\":\"md2html\"},{\"role\":\"user\",\"content\":\"_You miss 100% of the shots you don't take. --Wayne Gretzky_\"},{\"role\":\"assistant\",\"content\":\"<u>You miss 100% of the shots you don't take. --Wayne Gretzky</u>\"}]}\n",
    "{\"messages\":[{\"role\":\"system\",\"content\":\"md2html\"},{\"role\":\"user\",\"content\":\"**The only way to do great work is to love what you do. -- Steve Jobs**\"},{\"role\":\"assistant\",\"content\":\"<b>The only way to do great work is to love what you do. -- Steve Jobs</b>\"}]}\n",
    "{\"messages\":[{\"role\":\"system\",\"content\":\"md2html\"},{\"role\":\"user\",\"content\":\"Tell me and I forget. *Teach me* and I remember. **Involve me** and I learn. -- Benjamin Franklin\"},{\"role\":\"assistant\",\"content\":\"Tell me and I forget. <i>Teach me</i> and I remember. <b>Involve me</b> and I learn. -- Benjamin Franklin\"}]}"
   ]
  },
  {
   "cell_type": "markdown",
   "id": "9ad4405a",
   "metadata": {},
   "source": [
    "#### I manualy imported file and fine-tuned model on playground\n",
    "https://platform.openai.com/finetune/"
   ]
  },
  {
   "cell_type": "code",
   "execution_count": 2,
   "id": "abd234ea",
   "metadata": {},
   "outputs": [
    {
     "name": "stdout",
     "output_type": "stream",
     "text": [
      "this is <b>important</b> note about <a href=\"https://aidevs.pl\">AI Devs</a>. Please <u>read</u> it!\n"
     ]
    }
   ],
   "source": [
    "# testing fine-tuned model\n",
    "\n",
    "md_example = \"this is **important** note about [AI Devs](https://aidevs.pl). Please _read_ it!\"\n",
    "\n",
    "response = client.chat.completions.create(\n",
    "  model=\"ft:gpt-3.5-turbo-1106:mirek::8RQSzYwt\",\n",
    "  messages=[\n",
    "    {\"role\": \"system\", \"content\": \"Change user Markdown to HTML\"},\n",
    "    {\"role\": \"user\", \"content\": md_example}\n",
    "  ]\n",
    ")\n",
    "\n",
    "print(response.choices[0].message.content)"
   ]
  },
  {
   "cell_type": "markdown",
   "id": "89a07188",
   "metadata": {},
   "source": [
    "### Test own API"
   ]
  },
  {
   "cell_type": "code",
   "execution_count": 3,
   "id": "4a3bd3e5",
   "metadata": {},
   "outputs": [
    {
     "data": {
      "text/plain": [
       "{'reply': 'this is <b>important</b> note about <a href=\"https://aidevs.pl\">AI Devs</a>. Please <u>read</u> it!'}"
      ]
     },
     "execution_count": 3,
     "metadata": {},
     "output_type": "execute_result"
    }
   ],
   "source": [
    "# testing my temporary API:\n",
    "url = \"https://myownapiv41.azurewebsites.net/md2html/\"\n",
    "\n",
    "data = {\n",
    "    \"question\": md_example\n",
    "}\n",
    "headers = {\n",
    "    \"Content-Type\": \"application/json\"\n",
    "}\n",
    "\n",
    "data_json = json.dumps(data)\n",
    "\n",
    "response = requests.post(url, data=data_json, headers=headers)\n",
    "\n",
    "response.json()"
   ]
  },
  {
   "cell_type": "markdown",
   "id": "0f612144",
   "metadata": {},
   "source": [
    "### Sending answer"
   ]
  },
  {
   "cell_type": "code",
   "execution_count": 4,
   "id": "4913b029",
   "metadata": {},
   "outputs": [
    {
     "name": "stdout",
     "output_type": "stream",
     "text": [
      "Sending answer: done! :)\n"
     ]
    }
   ],
   "source": [
    "token = get_auth_token('md2html')\n",
    "answer = url\n",
    "send_answer(token, answer)"
   ]
  },
  {
   "cell_type": "code",
   "execution_count": null,
   "id": "54f77cbe",
   "metadata": {},
   "outputs": [],
   "source": []
  },
  {
   "cell_type": "code",
   "execution_count": null,
   "id": "bc41e8d1",
   "metadata": {},
   "outputs": [],
   "source": []
  },
  {
   "cell_type": "code",
   "execution_count": null,
   "id": "2854eed4",
   "metadata": {},
   "outputs": [],
   "source": []
  },
  {
   "cell_type": "code",
   "execution_count": null,
   "id": "17cf3052",
   "metadata": {},
   "outputs": [],
   "source": []
  },
  {
   "cell_type": "markdown",
   "id": "24d580f9",
   "metadata": {},
   "source": [
    "#### Additional code used for API :)"
   ]
  },
  {
   "cell_type": "code",
   "execution_count": null,
   "id": "1a0e1d94",
   "metadata": {},
   "outputs": [],
   "source": [
    "def mk2html(md_example):\n",
    "    # ask LLM compressing\n",
    "    response = client.chat.completions.create(\n",
    "      model=\"ft:gpt-3.5-turbo-1106:mirek::8RQSzYwt\",\n",
    "      messages=[\n",
    "        {\"role\": \"user\", \"content\": md_example}\n",
    "      ]\n",
    "    )\n",
    "    \n",
    "    q = response.choices[0].message.content\n",
    "    \n",
    "    return q"
   ]
  },
  {
   "cell_type": "code",
   "execution_count": null,
   "id": "ff9b7dca",
   "metadata": {},
   "outputs": [],
   "source": []
  }
 ],
 "metadata": {
  "kernelspec": {
   "display_name": "Python 3 (ipykernel)",
   "language": "python",
   "name": "python3"
  },
  "language_info": {
   "codemirror_mode": {
    "name": "ipython",
    "version": 3
   },
   "file_extension": ".py",
   "mimetype": "text/x-python",
   "name": "python",
   "nbconvert_exporter": "python",
   "pygments_lexer": "ipython3",
   "version": "3.10.9"
  }
 },
 "nbformat": 4,
 "nbformat_minor": 5
}
